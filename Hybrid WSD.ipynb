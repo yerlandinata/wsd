{
 "cells": [
  {
   "cell_type": "markdown",
   "metadata": {},
   "source": [
    "# Evaluation"
   ]
  },
  {
   "cell_type": "code",
   "execution_count": 41,
   "metadata": {},
   "outputs": [],
   "source": [
    "import pandas as pd\n",
    "import numpy as np\n",
    "from sklearn.base import BaseEstimator, TransformerMixin, ClassifierMixin\n",
    "import gensim\n",
    "from scipy.sparse.csr import csr_matrix\n",
    "import time\n",
    "from functools import reduce\n",
    "from sklearn.base import BaseEstimator, TransformerMixin\n",
    "from sklearn.preprocessing import OneHotEncoder, LabelEncoder\n",
    "from functools import reduce\n",
    "from sklearn.feature_extraction.text import CountVectorizer\n",
    "from sklearn.decomposition import TruncatedSVD\n",
    "from sklearn.preprocessing import Normalizer\n",
    "from sklearn.pipeline import make_pipeline\n",
    "from preprocessor import normalize_money, normalize_number, stemmer, pipe\n",
    "from sklearn.model_selection import GridSearchCV\n",
    "from sklearn.metrics import classification_report\n",
    "from sklearn.svm import LinearSVC\n",
    "import sys"
   ]
  },
  {
   "cell_type": "code",
   "execution_count": 2,
   "metadata": {},
   "outputs": [],
   "source": [
    "class MajorLabelClassifier(BaseEstimator, ClassifierMixin):\n",
    "    \n",
    "    def fit(self, X, y=None):\n",
    "        y = list(y)\n",
    "        self.possible_y_ = set(y)\n",
    "        self.total_example_ = len(y)\n",
    "        self.major_label_count_ = 0\n",
    "        for p in self.possible_y_:\n",
    "            count = y.count(p)\n",
    "            if count > self.major_label_count_:\n",
    "                self.major_label_ = p\n",
    "                self.major_label_count_ = count\n",
    "        self.fitted_ = True\n",
    "        return self\n",
    "    \n",
    "    def predict(self, X):\n",
    "        return np.array([self.major_label_ for i in range(len(X))])\n"
   ]
  },
  {
   "cell_type": "markdown",
   "metadata": {},
   "source": [
    "# Load Training Data"
   ]
  },
  {
   "cell_type": "code",
   "execution_count": 3,
   "metadata": {
    "scrolled": true
   },
   "outputs": [
    {
     "data": {
      "text/html": [
       "<div>\n",
       "<style scoped>\n",
       "    .dataframe tbody tr th:only-of-type {\n",
       "        vertical-align: middle;\n",
       "    }\n",
       "\n",
       "    .dataframe tbody tr th {\n",
       "        vertical-align: top;\n",
       "    }\n",
       "\n",
       "    .dataframe thead th {\n",
       "        text-align: right;\n",
       "    }\n",
       "</style>\n",
       "<table border=\"1\" class=\"dataframe\">\n",
       "  <thead>\n",
       "    <tr style=\"text-align: right;\">\n",
       "      <th></th>\n",
       "      <th>Unnamed: 0</th>\n",
       "      <th>kata</th>\n",
       "      <th>sense</th>\n",
       "      <th>kalimat</th>\n",
       "      <th>pos_tags</th>\n",
       "      <th>clean</th>\n",
       "      <th>targetpos_clean</th>\n",
       "      <th>targetpos_ori</th>\n",
       "      <th>targetpos_pos_tag</th>\n",
       "    </tr>\n",
       "  </thead>\n",
       "  <tbody>\n",
       "    <tr>\n",
       "      <th>0</th>\n",
       "      <td>0</td>\n",
       "      <td>cerah</td>\n",
       "      <td>4801</td>\n",
       "      <td>cuaca cerah adalah lazim panjang tahun</td>\n",
       "      <td>NN NN VB NN NN NN Z</td>\n",
       "      <td>cuaca cerah lazim</td>\n",
       "      <td>1</td>\n",
       "      <td>1</td>\n",
       "      <td>1</td>\n",
       "    </tr>\n",
       "    <tr>\n",
       "      <th>1</th>\n",
       "      <td>1</td>\n",
       "      <td>cerah</td>\n",
       "      <td>4801</td>\n",
       "      <td>gambar yang hasil oleh layarnya cukup cerah da...</td>\n",
       "      <td>NNP SC VB IN NN RB JJ CC VB NN SC JJ VB NN SC ...</td>\n",
       "      <td>gambar hasil layarnya cerah milik speaker hasi...</td>\n",
       "      <td>3</td>\n",
       "      <td>6</td>\n",
       "      <td>6</td>\n",
       "    </tr>\n",
       "    <tr>\n",
       "      <th>2</th>\n",
       "      <td>2</td>\n",
       "      <td>cerah</td>\n",
       "      <td>4803</td>\n",
       "      <td>masa depan yang cerah bagi pemuda umur somenum...</td>\n",
       "      <td>NN NN SC VB IN NN NN CD IN NNP NNP CD Z</td>\n",
       "      <td>cerah bagi pemuda umur prancis abad</td>\n",
       "      <td>0</td>\n",
       "      <td>3</td>\n",
       "      <td>3</td>\n",
       "    </tr>\n",
       "    <tr>\n",
       "      <th>3</th>\n",
       "      <td>3</td>\n",
       "      <td>cerah</td>\n",
       "      <td>4801</td>\n",
       "      <td>cor caroli alpha canum venaticorum nama lengka...</td>\n",
       "      <td>NNP NNP Z NNP NNP NNP Z Z Z NN RB VB NNP NNP N...</td>\n",
       "      <td>cor caroli alpha canum venaticorum nama lengka...</td>\n",
       "      <td>12</td>\n",
       "      <td>16</td>\n",
       "      <td>21</td>\n",
       "    </tr>\n",
       "    <tr>\n",
       "      <th>4</th>\n",
       "      <td>4</td>\n",
       "      <td>cerah</td>\n",
       "      <td>4801</td>\n",
       "      <td>sanders lebih suka cat air untuk lilo dengan m...</td>\n",
       "      <td>NN RB VB NN NN SC NNP IN NN VB NN NN NN NN NN Z</td>\n",
       "      <td>sanders suka cat air lilo maksud tampil warna ...</td>\n",
       "      <td>8</td>\n",
       "      <td>11</td>\n",
       "      <td>11</td>\n",
       "    </tr>\n",
       "  </tbody>\n",
       "</table>\n",
       "</div>"
      ],
      "text/plain": [
       "   Unnamed: 0   kata sense                                            kalimat  \\\n",
       "0           0  cerah  4801             cuaca cerah adalah lazim panjang tahun   \n",
       "1           1  cerah  4801  gambar yang hasil oleh layarnya cukup cerah da...   \n",
       "2           2  cerah  4803  masa depan yang cerah bagi pemuda umur somenum...   \n",
       "3           3  cerah  4801  cor caroli alpha canum venaticorum nama lengka...   \n",
       "4           4  cerah  4801  sanders lebih suka cat air untuk lilo dengan m...   \n",
       "\n",
       "                                            pos_tags  \\\n",
       "0                                NN NN VB NN NN NN Z   \n",
       "1  NNP SC VB IN NN RB JJ CC VB NN SC JJ VB NN SC ...   \n",
       "2            NN NN SC VB IN NN NN CD IN NNP NNP CD Z   \n",
       "3  NNP NNP Z NNP NNP NNP Z Z Z NN RB VB NNP NNP N...   \n",
       "4    NN RB VB NN NN SC NNP IN NN VB NN NN NN NN NN Z   \n",
       "\n",
       "                                               clean  targetpos_clean  \\\n",
       "0                                  cuaca cerah lazim                1   \n",
       "1  gambar hasil layarnya cerah milik speaker hasi...                3   \n",
       "2                cerah bagi pemuda umur prancis abad                0   \n",
       "3  cor caroli alpha canum venaticorum nama lengka...               12   \n",
       "4  sanders suka cat air lilo maksud tampil warna ...                8   \n",
       "\n",
       "   targetpos_ori  targetpos_pos_tag  \n",
       "0              1                  1  \n",
       "1              6                  6  \n",
       "2              3                  3  \n",
       "3             16                 21  \n",
       "4             11                 11  "
      ]
     },
     "execution_count": 3,
     "metadata": {},
     "output_type": "execute_result"
    }
   ],
   "source": [
    "train_raw = pd.read_csv('train_data.csv')\n",
    "train_raw.head()"
   ]
  },
  {
   "cell_type": "code",
   "execution_count": 4,
   "metadata": {},
   "outputs": [],
   "source": [
    "ambiguous_word = set(train_raw.kata)"
   ]
  },
  {
   "cell_type": "code",
   "execution_count": 5,
   "metadata": {},
   "outputs": [],
   "source": [
    "RARE_LIMIT = 5\n",
    "sense_set = set(train_raw.sense)"
   ]
  },
  {
   "cell_type": "code",
   "execution_count": 6,
   "metadata": {},
   "outputs": [
    {
     "data": {
      "text/plain": [
       "37"
      ]
     },
     "execution_count": 6,
     "metadata": {},
     "output_type": "execute_result"
    }
   ],
   "source": [
    "rare_sense = set(filter(lambda s: len(train_raw.query('sense == \"{}\"'.format(s))) <= RARE_LIMIT, sense_set))\n",
    "len(rare_sense)"
   ]
  },
  {
   "cell_type": "code",
   "execution_count": 7,
   "metadata": {},
   "outputs": [],
   "source": [
    "train_raw_kata = []\n",
    "train_raw_sense = []\n",
    "train_raw_kalimat = []\n",
    "train_raw_clean = []\n",
    "train_raw_pos_clean = []\n",
    "train_raw_pos_ori = []\n",
    "train_raw_pos_tags = []\n",
    "train_raw_pos_pos_tag = []\n",
    "for i in range(len(train_raw)):\n",
    "    row = train_raw.iloc[i]\n",
    "    if row.sense not in rare_sense:\n",
    "        train_raw_kata.append(row.kata)\n",
    "        train_raw_sense.append(row.sense)\n",
    "        train_raw_kalimat.append(row.kalimat)\n",
    "        train_raw_clean.append(row.clean)\n",
    "        train_raw_pos_clean.append(row.targetpos_clean)\n",
    "        train_raw_pos_ori.append(row.targetpos_ori)\n",
    "        train_raw_pos_tags.append(row.pos_tags)\n",
    "        train_raw_pos_pos_tag.append(row.targetpos_pos_tag)\n",
    "\n",
    "train_raw = pd.DataFrame({\n",
    "    'kata': train_raw_kata,\n",
    "    'sense': train_raw_sense,\n",
    "    'kalimat': train_raw_kalimat,\n",
    "    'clean': train_raw_clean,\n",
    "    'targetpos_clean': train_raw_pos_clean,\n",
    "    'targetpos_ori': train_raw_pos_ori,\n",
    "    'pos_tags': train_raw_pos_tags,\n",
    "    'targetpos_pos_tag': train_raw_pos_pos_tag,\n",
    "})"
   ]
  },
  {
   "cell_type": "code",
   "execution_count": 8,
   "metadata": {},
   "outputs": [
    {
     "data": {
      "text/plain": [
       "{'4901', '4903', '4904'}"
      ]
     },
     "execution_count": 8,
     "metadata": {},
     "output_type": "execute_result"
    }
   ],
   "source": [
    "set(train_raw.query('kata == \"{}\"'.format('panas')).sense)"
   ]
  },
  {
   "cell_type": "markdown",
   "metadata": {},
   "source": [
    "# Load Test Data"
   ]
  },
  {
   "cell_type": "code",
   "execution_count": 9,
   "metadata": {
    "scrolled": true
   },
   "outputs": [
    {
     "data": {
      "text/html": [
       "<div>\n",
       "<style scoped>\n",
       "    .dataframe tbody tr th:only-of-type {\n",
       "        vertical-align: middle;\n",
       "    }\n",
       "\n",
       "    .dataframe tbody tr th {\n",
       "        vertical-align: top;\n",
       "    }\n",
       "\n",
       "    .dataframe thead th {\n",
       "        text-align: right;\n",
       "    }\n",
       "</style>\n",
       "<table border=\"1\" class=\"dataframe\">\n",
       "  <thead>\n",
       "    <tr style=\"text-align: right;\">\n",
       "      <th></th>\n",
       "      <th>Unnamed: 0</th>\n",
       "      <th>id</th>\n",
       "      <th>kata</th>\n",
       "      <th>kalimat</th>\n",
       "      <th>pos_tags</th>\n",
       "      <th>clean</th>\n",
       "      <th>targetpos_clean</th>\n",
       "      <th>targetpos_ori</th>\n",
       "      <th>targetpos_pos_tag</th>\n",
       "    </tr>\n",
       "  </thead>\n",
       "  <tbody>\n",
       "    <tr>\n",
       "      <th>0</th>\n",
       "      <td>0</td>\n",
       "      <td>13</td>\n",
       "      <td>asing</td>\n",
       "      <td>para cinta film indonesia atau tv pasti tak as...</td>\n",
       "      <td>DT NN NN NN CC NNP Z RB NEG JJ VB RB Z</td>\n",
       "      <td>cinta film indonesia tv asing dengar nama</td>\n",
       "      <td>4</td>\n",
       "      <td>8</td>\n",
       "      <td>9</td>\n",
       "    </tr>\n",
       "    <tr>\n",
       "      <th>1</th>\n",
       "      <td>1</td>\n",
       "      <td>19</td>\n",
       "      <td>asing</td>\n",
       "      <td>pasti telinga kita rasa asing dan aneh dengar ...</td>\n",
       "      <td>NN NN PRP VB JJ CC JJ VB NN VB NN NN Z SC SC J...</td>\n",
       "      <td>telinga asing aneh dengar menu masakan soto ke...</td>\n",
       "      <td>1</td>\n",
       "      <td>4</td>\n",
       "      <td>4</td>\n",
       "    </tr>\n",
       "    <tr>\n",
       "      <th>2</th>\n",
       "      <td>2</td>\n",
       "      <td>41</td>\n",
       "      <td>asing</td>\n",
       "      <td>warga negara asing atau warga negara makmur ya...</td>\n",
       "      <td>NN NN JJ CC NN NN NN SC NN RB NEG CD MD VB NNP...</td>\n",
       "      <td>warga negara asing warga negara makmur kepala ...</td>\n",
       "      <td>2</td>\n",
       "      <td>2</td>\n",
       "      <td>2</td>\n",
       "    </tr>\n",
       "    <tr>\n",
       "      <th>3</th>\n",
       "      <td>3</td>\n",
       "      <td>44</td>\n",
       "      <td>asing</td>\n",
       "      <td>lama somenumber tahun perintah sultan mahmud j...</td>\n",
       "      <td>IN CD NN NN NN Z NNP NNP VB NN JJ IN NN JJ Z N...</td>\n",
       "      <td>perintah sultan mahmud jalin kerja asing belan...</td>\n",
       "      <td>5</td>\n",
       "      <td>11</td>\n",
       "      <td>13</td>\n",
       "    </tr>\n",
       "    <tr>\n",
       "      <th>4</th>\n",
       "      <td>4</td>\n",
       "      <td>121</td>\n",
       "      <td>asing</td>\n",
       "      <td>yang kemudian ikut dengan donatdonat waralaba ...</td>\n",
       "      <td>DT CC VB IN NN NN JJ RB IN NNP NNP Z NNP NNP Z...</td>\n",
       "      <td>donatdonat waralaba asing master ring master d...</td>\n",
       "      <td>2</td>\n",
       "      <td>6</td>\n",
       "      <td>6</td>\n",
       "    </tr>\n",
       "  </tbody>\n",
       "</table>\n",
       "</div>"
      ],
      "text/plain": [
       "   Unnamed: 0   id   kata                                            kalimat  \\\n",
       "0           0   13  asing  para cinta film indonesia atau tv pasti tak as...   \n",
       "1           1   19  asing  pasti telinga kita rasa asing dan aneh dengar ...   \n",
       "2           2   41  asing  warga negara asing atau warga negara makmur ya...   \n",
       "3           3   44  asing  lama somenumber tahun perintah sultan mahmud j...   \n",
       "4           4  121  asing  yang kemudian ikut dengan donatdonat waralaba ...   \n",
       "\n",
       "                                            pos_tags  \\\n",
       "0             DT NN NN NN CC NNP Z RB NEG JJ VB RB Z   \n",
       "1  NN NN PRP VB JJ CC JJ VB NN VB NN NN Z SC SC J...   \n",
       "2  NN NN JJ CC NN NN NN SC NN RB NEG CD MD VB NNP...   \n",
       "3  IN CD NN NN NN Z NNP NNP VB NN JJ IN NN JJ Z N...   \n",
       "4  DT CC VB IN NN NN JJ RB IN NNP NNP Z NNP NNP Z...   \n",
       "\n",
       "                                               clean  targetpos_clean  \\\n",
       "0          cinta film indonesia tv asing dengar nama                4   \n",
       "1  telinga asing aneh dengar menu masakan soto ke...                1   \n",
       "2  warga negara asing warga negara makmur kepala ...                2   \n",
       "3  perintah sultan mahmud jalin kerja asing belan...                5   \n",
       "4  donatdonat waralaba asing master ring master d...                2   \n",
       "\n",
       "   targetpos_ori  targetpos_pos_tag  \n",
       "0              8                  9  \n",
       "1              4                  4  \n",
       "2              2                  2  \n",
       "3             11                 13  \n",
       "4              6                  6  "
      ]
     },
     "execution_count": 9,
     "metadata": {},
     "output_type": "execute_result"
    }
   ],
   "source": [
    "test_raw = pd.read_csv('testing_data_clean.csv')\n",
    "test_raw.head()"
   ]
  },
  {
   "cell_type": "code",
   "execution_count": 10,
   "metadata": {},
   "outputs": [
    {
     "data": {
      "text/html": [
       "<div>\n",
       "<style scoped>\n",
       "    .dataframe tbody tr th:only-of-type {\n",
       "        vertical-align: middle;\n",
       "    }\n",
       "\n",
       "    .dataframe tbody tr th {\n",
       "        vertical-align: top;\n",
       "    }\n",
       "\n",
       "    .dataframe thead th {\n",
       "        text-align: right;\n",
       "    }\n",
       "</style>\n",
       "<table border=\"1\" class=\"dataframe\">\n",
       "  <thead>\n",
       "    <tr style=\"text-align: right;\">\n",
       "      <th></th>\n",
       "      <th>Unnamed: 0</th>\n",
       "      <th>id</th>\n",
       "      <th>kata</th>\n",
       "      <th>kalimat</th>\n",
       "      <th>pos_tags</th>\n",
       "      <th>clean</th>\n",
       "      <th>targetpos_clean</th>\n",
       "      <th>targetpos_ori</th>\n",
       "      <th>targetpos_pos_tag</th>\n",
       "    </tr>\n",
       "  </thead>\n",
       "  <tbody>\n",
       "    <tr>\n",
       "      <th>631</th>\n",
       "      <td>631</td>\n",
       "      <td>76787</td>\n",
       "      <td>baru</td>\n",
       "      <td>namun teliti hadap peran dna di dalam sel baru...</td>\n",
       "      <td>CC Z NN IN NN NNP IN NN NN JJ VB IN NN NN CD Z...</td>\n",
       "      <td>teliti hadap peran dna dalam sel baru abad tem...</td>\n",
       "      <td>6</td>\n",
       "      <td>8</td>\n",
       "      <td>9</td>\n",
       "    </tr>\n",
       "    <tr>\n",
       "      <th>632</th>\n",
       "      <td>632</td>\n",
       "      <td>77113</td>\n",
       "      <td>baru</td>\n",
       "      <td>tim atkinson milik main baru seperti jesper ol...</td>\n",
       "      <td>NNP NNP VB NN JJ IN NNP NNP Z NNP NNP CC NNP N...</td>\n",
       "      <td>tim atkinson milik main baru jesper olsen paul...</td>\n",
       "      <td>4</td>\n",
       "      <td>4</td>\n",
       "      <td>4</td>\n",
       "    </tr>\n",
       "    <tr>\n",
       "      <th>633</th>\n",
       "      <td>633</td>\n",
       "      <td>77460</td>\n",
       "      <td>baru</td>\n",
       "      <td>dalam usia baru injak somenumber tahun malik t...</td>\n",
       "      <td>IN NN JJ VB CD NN Z NNP MD VB VB IN NN NNP Z</td>\n",
       "      <td>dalam usia baru injak malik niat pergi pulau jawa</td>\n",
       "      <td>2</td>\n",
       "      <td>2</td>\n",
       "      <td>2</td>\n",
       "    </tr>\n",
       "    <tr>\n",
       "      <th>634</th>\n",
       "      <td>634</td>\n",
       "      <td>77587</td>\n",
       "      <td>baru</td>\n",
       "      <td>somenumber tindak bersamasama mungkin lahir ba...</td>\n",
       "      <td>RB VB VB VB NN JJ IN NNP Z</td>\n",
       "      <td>tindak bersamasama lahir baru dalam kristus</td>\n",
       "      <td>3</td>\n",
       "      <td>5</td>\n",
       "      <td>5</td>\n",
       "    </tr>\n",
       "    <tr>\n",
       "      <th>635</th>\n",
       "      <td>635</td>\n",
       "      <td>77813</td>\n",
       "      <td>baru</td>\n",
       "      <td>film pertama dari seri ini tayang perdana di e...</td>\n",
       "      <td>NN OD IN NN PR VB NN IN NNP NNP IN NNP Z NNP N...</td>\n",
       "      <td>film seri tayang perdana embassy theatre welli...</td>\n",
       "      <td>8</td>\n",
       "      <td>13</td>\n",
       "      <td>14</td>\n",
       "    </tr>\n",
       "  </tbody>\n",
       "</table>\n",
       "</div>"
      ],
      "text/plain": [
       "     Unnamed: 0     id  kata  \\\n",
       "631         631  76787  baru   \n",
       "632         632  77113  baru   \n",
       "633         633  77460  baru   \n",
       "634         634  77587  baru   \n",
       "635         635  77813  baru   \n",
       "\n",
       "                                               kalimat  \\\n",
       "631  namun teliti hadap peran dna di dalam sel baru...   \n",
       "632  tim atkinson milik main baru seperti jesper ol...   \n",
       "633  dalam usia baru injak somenumber tahun malik t...   \n",
       "634  somenumber tindak bersamasama mungkin lahir ba...   \n",
       "635  film pertama dari seri ini tayang perdana di e...   \n",
       "\n",
       "                                              pos_tags  \\\n",
       "631  CC Z NN IN NN NNP IN NN NN JJ VB IN NN NN CD Z...   \n",
       "632  NNP NNP VB NN JJ IN NNP NNP Z NNP NNP CC NNP N...   \n",
       "633       IN NN JJ VB CD NN Z NNP MD VB VB IN NN NNP Z   \n",
       "634                         RB VB VB VB NN JJ IN NNP Z   \n",
       "635  NN OD IN NN PR VB NN IN NNP NNP IN NNP Z NNP N...   \n",
       "\n",
       "                                                 clean  targetpos_clean  \\\n",
       "631  teliti hadap peran dna dalam sel baru abad tem...                6   \n",
       "632  tim atkinson milik main baru jesper olsen paul...                4   \n",
       "633  dalam usia baru injak malik niat pergi pulau jawa                2   \n",
       "634        tindak bersamasama lahir baru dalam kristus                3   \n",
       "635  film seri tayang perdana embassy theatre welli...                8   \n",
       "\n",
       "     targetpos_ori  targetpos_pos_tag  \n",
       "631              8                  9  \n",
       "632              4                  4  \n",
       "633              2                  2  \n",
       "634              5                  5  \n",
       "635             13                 14  "
      ]
     },
     "execution_count": 10,
     "metadata": {},
     "output_type": "execute_result"
    }
   ],
   "source": [
    "test = dict()\n",
    "for w in ambiguous_word:\n",
    "    test[w] = test_raw.query('kata == \"{}\"'.format(w))\n",
    "    \n",
    "test['baru'].head()"
   ]
  },
  {
   "cell_type": "markdown",
   "metadata": {},
   "source": [
    "# Dummy"
   ]
  },
  {
   "cell_type": "code",
   "execution_count": 11,
   "metadata": {},
   "outputs": [],
   "source": [
    "# dummy_clf = {w: MajorLabelClassifier().fit(train[w], train[w].sense) for w in ambiguous_word}"
   ]
  },
  {
   "cell_type": "code",
   "execution_count": 12,
   "metadata": {},
   "outputs": [],
   "source": [
    "# res_file = open('dummy_baseline_classification.csv', 'w')\n",
    "\n",
    "# for i in range(len(test_raw)):\n",
    "#     row = test_raw.iloc[i]\n",
    "#     res_file.write('{},{},{}'.format(row.id, row.word, dummy_clf[row.word].predict([None])[0]))\n",
    "    \n",
    "# res_file.close()"
   ]
  },
  {
   "cell_type": "markdown",
   "metadata": {},
   "source": [
    "# Iacobacci, et. al (2016)\n",
    "Embeddings for Word Sense Disambiguation: An Evaluation Study"
   ]
  },
  {
   "cell_type": "code",
   "execution_count": 13,
   "metadata": {},
   "outputs": [],
   "source": [
    "POS_TAGS_WINDOW = 2\n",
    "\n",
    "UNIGRAM = 0\n",
    "BIGRAM = 1\n",
    "\n",
    "collocation_pos = [\n",
    "    (-2, -2), (-1, -1), (1, 1), (2, 2), (-2, -1), (-1, 1), (1, 2),\n",
    "]\n",
    "\n",
    "collocation_type = [\n",
    "    UNIGRAM, UNIGRAM, UNIGRAM, UNIGRAM, BIGRAM, BIGRAM, BIGRAM\n",
    "]"
   ]
  },
  {
   "cell_type": "code",
   "execution_count": 17,
   "metadata": {},
   "outputs": [],
   "source": [
    "TAGSET = [\n",
    "    '-', 'CC', 'CD', 'DT', 'FW', 'IN', 'JJ', 'MD', 'NEG', 'NN',\n",
    "    'NND','NNP','OD','PR','PRP','RB','RP','SC','SYM','VB','WH','X','Z'\n",
    "]\n",
    "\n",
    "TAG_LABEL = {t: [1 if t == x else 0 for x in TAGSET] for t,i in zip(TAGSET, range(len(TAGSET)))}\n",
    "\n",
    "class POSTagTransformer(BaseEstimator, TransformerMixin):\n",
    "    def transform(self, X, y=None):\n",
    "        res = []\n",
    "        for sentence in X:\n",
    "            r = []\n",
    "            for tag in sentence:\n",
    "                r = [*r, *TAG_LABEL[tag]]\n",
    "            res.append(r)\n",
    "        res = np.array(res, dtype=np.bool)\n",
    "        return csr_matrix(res)\n",
    "\n",
    "\n",
    "def get_collocation(sentence, targetpos, L, R):\n",
    "    col = ['-' for i in range(R-L+1 - (1 if L < 0 and R > 0 else 0))]\n",
    "    tokens = sentence.split()\n",
    "    L = targetpos+L\n",
    "    R = targetpos+R\n",
    "    j = L\n",
    "    i = 0\n",
    "    while j <= R:\n",
    "        if j < 0:\n",
    "            j += 1\n",
    "            i += 1\n",
    "            continue\n",
    "        if j == targetpos:\n",
    "            j += 1\n",
    "            continue\n",
    "        if j >= len(tokens):\n",
    "            break\n",
    "        col[i] = tokens[j]\n",
    "        j += 1\n",
    "        i += 1\n",
    "    \n",
    "    return ' '.join(col)\n",
    "\n",
    "def get_collocation_vectors_vectorizer(dataset):\n",
    "    context_window = []\n",
    "\n",
    "    for i in range(len(dataset)):\n",
    "        instance = dataset.iloc[i]\n",
    "        context_window.append(get_collocation(instance.kalimat, instance.targetpos_ori, -2, 2))\n",
    "\n",
    "    unigram_vectorizer = CountVectorizer(ngram_range=(1,1), min_df=.0002).fit(context_window)\n",
    "    bigram_vectorizer = CountVectorizer(ngram_range=(2,2), min_df=.0002).fit(context_window)\n",
    "    \n",
    "    return unigram_vectorizer, bigram_vectorizer\n",
    "\n",
    "def get_collocation_vectors(vectorizers, dataset):\n",
    "    collocation_words = [[] for i in range(len(dataset))]\n",
    "\n",
    "    for i in range(len(dataset)):\n",
    "        instance = dataset.iloc[i]\n",
    "        for l, r in collocation_pos:\n",
    "            collocation_words[i].append(get_collocation(instance.kalimat, instance.targetpos_ori, l, r))\n",
    "        \n",
    "    unigram_vectorizer, bigram_vectorizer = vectorizers\n",
    "    collocation_vectors = []\n",
    "\n",
    "    vectorizer = [None, None]\n",
    "    vectorizer[UNIGRAM] = unigram_vectorizer\n",
    "    vectorizer[BIGRAM] = bigram_vectorizer\n",
    "\n",
    "    for i in range(len(dataset)):\n",
    "        vec = []\n",
    "        for j in range(len(collocation_pos)):\n",
    "            vec = [\n",
    "                *vec, \n",
    "                *np.array(vectorizer[collocation_type[j]].transform([collocation_words[i][j]]).toarray()[0], dtype=np.bool)\n",
    "            ]\n",
    "        collocation_vectors.append(vec)\n",
    "        \n",
    "    collocation_vectors = np.array(collocation_vectors, dtype=np.bool)\n",
    "\n",
    "    return csr_matrix(collocation_vectors)\n",
    "    \n",
    "\n",
    "\n",
    "def get_pos_tags(dataset):\n",
    "    pos_tags = [['-' for j in range(2*POS_TAGS_WINDOW+1)] for i in range(len(dataset))]\n",
    "    possible_tags = set()\n",
    "\n",
    "    for i in range(len(dataset)):\n",
    "        row = dataset.iloc[i]\n",
    "        tags = row.pos_tags.split()\n",
    "        position = row.targetpos_pos_tag\n",
    "        pos_tags[i][POS_TAGS_WINDOW] = tags[position]\n",
    "        j = position-1\n",
    "        k = POS_TAGS_WINDOW - 1\n",
    "        while j >= 0 and j >= position - POS_TAGS_WINDOW:\n",
    "            if tags[j] == 'Z':\n",
    "                break # do not even include\n",
    "            pos_tags[i][k] = tags[j]\n",
    "            k -= 1\n",
    "            j -= 1\n",
    "        j = position+1\n",
    "        k = POS_TAGS_WINDOW + 1\n",
    "        while j < len(tags) and j <= position + POS_TAGS_WINDOW:\n",
    "            pos_tags[i][k] = tags[j]\n",
    "            if tags[j] == 'Z':\n",
    "                break # include, then break\n",
    "\n",
    "            k += 1\n",
    "            j += 1\n",
    "\n",
    "    return POSTagTransformer().transform(pos_tags)\n",
    "    \n",
    "def get_surrounding_words_vectorizer(dataset):\n",
    "    cv = CountVectorizer(min_df=.0002)\n",
    "    surrounding_words = cv.fit_transform(\n",
    "        list(map(lambda s: ' '.join(set(s.split())), dataset.clean))\n",
    "    )\n",
    "    return cv\n",
    "\n",
    "def get_surrounding_words(vectorizer, dataset):\n",
    "    return vectorizer.transform(\n",
    "        list(map(lambda s: ' '.join(set(s.split())), dataset.clean))\n",
    "    )\n",
    "\n",
    "def get_svd_transformer(X, size):\n",
    "    transformer = make_pipeline(TruncatedSVD(size), Normalizer(copy=False))\n",
    "    transformer.fit_transform(X)\n",
    "    return transformer\n",
    "    \n",
    "class ItMakesSenseFeatures(BaseEstimator, TransformerMixin):\n",
    "    \n",
    "    def fit(self, X, y=None):\n",
    "        print('fitting pos tags.. ', end='')\n",
    "        pos_tags = get_pos_tags(X)\n",
    "        print('Done! | ', end='')\n",
    "#         print('\\n', pos_tags)\n",
    "        print('fitting collocation vectors.. ', end='')\n",
    "        self.collocation_unigram_vectorizer_, self.collocation_bigram_vectoirzer = (\n",
    "            get_collocation_vectors_vectorizer(X)\n",
    "        )\n",
    "        collocation_vectors = get_collocation_vectors(\n",
    "            (self.collocation_unigram_vectorizer_, self.collocation_bigram_vectoirzer),\n",
    "            X\n",
    "        )\n",
    "        print('Done! | ', end='')\n",
    "        print('fitting collocation vectors.. ', end='')\n",
    "        self.surrounding_words_vectorizer_ = (\n",
    "            get_surrounding_words_vectorizer(X)\n",
    "        )\n",
    "        surrounding_words = get_surrounding_words(\n",
    "            self.surrounding_words_vectorizer_,\n",
    "            X\n",
    "        )\n",
    "        print('Done! | ', end='')\n",
    "        print('fitting SVDs ', end='')\n",
    "        self.possvd_transformer_ = get_svd_transformer(pos_tags, 80)\n",
    "        self.imscvsvd_transformer_ = get_svd_transformer(collocation_vectors, 1000)\n",
    "        self.swsvd_transformer_ = get_svd_transformer(surrounding_words, 1000) \n",
    "        print('Done!')\n",
    "        return self\n",
    "        \n",
    "    def transform(self, X, y=None):\n",
    "        pos_tags = get_pos_tags(X)\n",
    "        \n",
    "        collocation_vectors = get_collocation_vectors(\n",
    "            (self.collocation_unigram_vectorizer_, self.collocation_bigram_vectoirzer),\n",
    "            X\n",
    "        )\n",
    "        \n",
    "        surrounding_words = get_surrounding_words(\n",
    "            self.surrounding_words_vectorizer_,\n",
    "            X\n",
    "        )\n",
    "        \n",
    "        possvd = self.possvd_transformer_.transform(pos_tags)\n",
    "        imscvsvd = self.imscvsvd_transformer_.transform(collocation_vectors)\n",
    "        swsvd = self.swsvd_transformer_.transform(surrounding_words)\n",
    "        \n",
    "        return np.array(\n",
    "            list(\n",
    "                map(\n",
    "                    lambda i: [*possvd[i], *imscvsvd[i], *swsvd[i]],\n",
    "                    [i for i in range(len(X))]\n",
    "                )\n",
    "            ), dtype=np.float32\n",
    "        )\n",
    "    \n",
    "\n",
    "class IacobacciFeatures(ItMakesSenseFeatures):\n",
    "    \n",
    "    def __init__(self, embedding_src=None):\n",
    "        if embedding_src is None:\n",
    "            raise ValueError('Embeddings is required')\n",
    "        self.word_vectors_ = gensim.models.keyedvectors.KeyedVectors.load_word2vec_format(embedding_src)\n",
    "        self.embedding_size_ = self.word_vectors_.get_vector('wikipedia').shape[0]\n",
    "        self.embedding_src = embedding_src\n",
    "        \n",
    "    def transform(self, X, y=None):\n",
    "        ims = super().transform(X)\n",
    "        \n",
    "        print('IMS feature extraction finished, now working on word embeddings.. ', end='')\n",
    "        \n",
    "        embedding = []\n",
    "\n",
    "        W = 5\n",
    "        alpha = 1 - (np.power(0.1, np.power(W-1.0, -1)))\n",
    "\n",
    "        for p in range(len(X)):\n",
    "            instance = X.iloc[p]\n",
    "            e = np.zeros(self.embedding_size_)\n",
    "            I = instance.targetpos_ori\n",
    "            words = instance.kalimat.split()\n",
    "            for i in range(self.embedding_size_):\n",
    "                for j in range(max(0, I-W), min(len(words), I+W+1)):\n",
    "                    if j == I:\n",
    "                        continue\n",
    "                    try:\n",
    "                        e[i] += (self.word_vectors_.get_vector(words[j])[i] * (np.power(1 - alpha, abs(I-j) - 1)))\n",
    "                    except:\n",
    "                        continue\n",
    "            embedding.append(e)\n",
    "        embedding = np.array(embedding)\n",
    "        \n",
    "        print('Done!')\n",
    "        \n",
    "        return np.array(\n",
    "            list(\n",
    "                map(\n",
    "                    lambda i: [*ims[i], *embedding[i]],\n",
    "                    [i for i in range(len(X))]\n",
    "                )\n",
    "            )\n",
    "        )\n",
    "        \n",
    "\n",
    "class WordSenseDisambiguator(LinearSVC):\n",
    "    pass\n"
   ]
  },
  {
   "cell_type": "markdown",
   "metadata": {},
   "source": [
    "# Label Transformer\n",
    "Note: At this line of code, the rare label might already be dropped, double check this"
   ]
  },
  {
   "cell_type": "code",
   "execution_count": 15,
   "metadata": {},
   "outputs": [],
   "source": [
    "label_transformer = {w: LabelEncoder().fit(train_raw.query('kata == \"{}\"'.format(w)).sense) for w in ambiguous_word}"
   ]
  },
  {
   "cell_type": "markdown",
   "metadata": {},
   "source": [
    "# One Classifier per Ambiguous Word"
   ]
  },
  {
   "cell_type": "code",
   "execution_count": 16,
   "metadata": {},
   "outputs": [],
   "source": [
    "classifier = {w: None for w in ambiguous_word}"
   ]
  },
  {
   "cell_type": "markdown",
   "metadata": {},
   "source": [
    "# Transform the Raw Training Data"
   ]
  },
  {
   "cell_type": "markdown",
   "metadata": {},
   "source": [
    "### It Makes Sense (Zhong & Ng, 2010)"
   ]
  },
  {
   "cell_type": "code",
   "execution_count": 100,
   "metadata": {},
   "outputs": [
    {
     "name": "stdout",
     "output_type": "stream",
     "text": [
      "fitting pos tags.. Done! | fitting collocation vectors.. Done! | fitting collocation vectors.. Done! | fitting SVDs Done!\n",
      "elapsed time: 49.61393998599988\n"
     ]
    }
   ],
   "source": [
    "begin = time.perf_counter()\n",
    "imsTransformer = ItMakesSenseFeatures()\n",
    "imsTransformer.fit(train_raw)\n",
    "print('elapsed time:', time.perf_counter() - begin)"
   ]
  },
  {
   "cell_type": "code",
   "execution_count": 101,
   "metadata": {},
   "outputs": [
    {
     "name": "stdout",
     "output_type": "stream",
     "text": [
      "elapsed time: 34.681436462999955\n"
     ]
    }
   ],
   "source": [
    "begin = time.perf_counter()\n",
    "X_train = imsTransformer.transform(train_raw)\n",
    "print('elapsed time:', time.perf_counter() - begin)"
   ]
  },
  {
   "cell_type": "markdown",
   "metadata": {},
   "source": [
    "### Iacobacci, et. al (2016)"
   ]
  },
  {
   "cell_type": "code",
   "execution_count": 18,
   "metadata": {},
   "outputs": [
    {
     "name": "stderr",
     "output_type": "stream",
     "text": [
      "/home/nakama/Documents/StateOfTheArtWSD/nlp/lib/python3.6/site-packages/smart_open/smart_open_lib.py:398: UserWarning: This function is deprecated, use smart_open.open instead. See the migration notes for details: https://github.com/RaRe-Technologies/smart_open/blob/master/README.rst#migrating-to-the-new-open-function\n",
      "  'See the migration notes for details: %s' % _MIGRATION_NOTES_URL\n"
     ]
    },
    {
     "name": "stdout",
     "output_type": "stream",
     "text": [
      "fitting pos tags.. Done! | fitting collocation vectors.. Done! | fitting collocation vectors.. Done! | fitting SVDs Done!\n",
      "elapsed time: 45.23202269499998\n"
     ]
    }
   ],
   "source": [
    "begin = time.perf_counter()\n",
    "iaco = IacobacciFeatures(embedding_src='../wikipedia_indonesia_embedding50.model')\n",
    "iaco.fit(train_raw)\n",
    "print('elapsed time:', time.perf_counter() - begin)"
   ]
  },
  {
   "cell_type": "code",
   "execution_count": 19,
   "metadata": {},
   "outputs": [
    {
     "name": "stdout",
     "output_type": "stream",
     "text": [
      "IMS feature extraction finished, now working on word embeddings.. Done!\n",
      "elapsed time: 42.024855675000026\n"
     ]
    }
   ],
   "source": [
    "begin = time.perf_counter()\n",
    "X_train = iaco.transform(train_raw)\n",
    "print('elapsed time:', time.perf_counter() - begin)"
   ]
  },
  {
   "cell_type": "code",
   "execution_count": 20,
   "metadata": {},
   "outputs": [
    {
     "data": {
      "text/plain": [
       "(8311, 2130)"
      ]
     },
     "execution_count": 20,
     "metadata": {},
     "output_type": "execute_result"
    }
   ],
   "source": [
    "X_train.shape"
   ]
  },
  {
   "cell_type": "code",
   "execution_count": 21,
   "metadata": {},
   "outputs": [
    {
     "data": {
      "text/plain": [
       "array([ 0.85252614, -0.58905887,  0.17187213,  0.032917  ,  0.17269847,\n",
       "        2.13160081, -0.13912448, -0.78382006,  1.14674167, -1.49959393,\n",
       "        0.87349293,  0.81714298, -1.03026495,  0.31008111, -0.12096191,\n",
       "        0.00334453,  0.84030503, -0.95367855, -0.52984713, -0.43365839,\n",
       "        0.26815864,  2.16419343, -0.6888158 , -0.42631189,  0.02961208,\n",
       "        0.72068175,  0.66082762, -0.39731232,  0.13838263, -1.40844508,\n",
       "        0.16267357, -0.56762642,  0.52092731, -0.34003051, -0.41646776,\n",
       "       -0.56478803,  0.43807962, -1.02195942, -0.41822475, -1.02481925,\n",
       "        1.27909185, -0.02604193, -0.39847989, -1.24388813,  0.15393232,\n",
       "       -0.84586307,  1.14630138, -0.91808733,  0.03596264, -1.38456686])"
      ]
     },
     "execution_count": 21,
     "metadata": {},
     "output_type": "execute_result"
    }
   ],
   "source": [
    "X_train[0][2080:]"
   ]
  },
  {
   "cell_type": "markdown",
   "metadata": {},
   "source": [
    "### Labels "
   ]
  },
  {
   "cell_type": "code",
   "execution_count": 22,
   "metadata": {},
   "outputs": [],
   "source": [
    "y_train = np.array([label_transformer[w].transform([y])[0] for w, y in zip(list(train_raw.kata), list(train_raw.sense))])"
   ]
  },
  {
   "cell_type": "markdown",
   "metadata": {},
   "source": [
    "# Replicate \"Supervised WSD Learning\" to check the correctness of implementation"
   ]
  },
  {
   "cell_type": "code",
   "execution_count": 23,
   "metadata": {},
   "outputs": [
    {
     "name": "stdout",
     "output_type": "stream",
     "text": [
      "Linear SVM\n",
      "==================================\n",
      "tinggi\n"
     ]
    },
    {
     "name": "stderr",
     "output_type": "stream",
     "text": [
      "/home/nakama/Documents/StateOfTheArtWSD/nlp/lib/python3.6/site-packages/sklearn/svm/base.py:929: ConvergenceWarning: Liblinear failed to converge, increase the number of iterations.\n",
      "  \"the number of iterations.\", ConvergenceWarning)\n",
      "/home/nakama/Documents/StateOfTheArtWSD/nlp/lib/python3.6/site-packages/sklearn/metrics/classification.py:1437: UndefinedMetricWarning: Precision and F-score are ill-defined and being set to 0.0 in labels with no predicted samples.\n",
      "  'precision', 'predicted', average, warn_for)\n"
     ]
    },
    {
     "name": "stdout",
     "output_type": "stream",
     "text": [
      "\n",
      "Training f1-score: 0.9730847574139373\n",
      "Cross validation f1-score: 0.5562251755812129\n",
      "Dummy classifier f1-score:  0.10232558139534884\n",
      "Best parameters:\n",
      "C : 0.25\n",
      "max_iter : 20\n",
      "----------------------------------\n",
      "==================================\n",
      "layar\n"
     ]
    },
    {
     "name": "stderr",
     "output_type": "stream",
     "text": [
      "/home/nakama/Documents/StateOfTheArtWSD/nlp/lib/python3.6/site-packages/sklearn/svm/base.py:929: ConvergenceWarning: Liblinear failed to converge, increase the number of iterations.\n",
      "  \"the number of iterations.\", ConvergenceWarning)\n",
      "/home/nakama/Documents/StateOfTheArtWSD/nlp/lib/python3.6/site-packages/sklearn/metrics/classification.py:1437: UndefinedMetricWarning: Precision and F-score are ill-defined and being set to 0.0 in labels with no predicted samples.\n",
      "  'precision', 'predicted', average, warn_for)\n"
     ]
    },
    {
     "name": "stdout",
     "output_type": "stream",
     "text": [
      "\n",
      "Training f1-score: 1.0\n",
      "Cross validation f1-score: 0.8889704289036882\n",
      "Dummy classifier f1-score:  0.3347826086956522\n",
      "Best parameters:\n",
      "C : 2.0\n",
      "max_iter : 20\n",
      "----------------------------------\n",
      "==================================\n",
      "kunci\n"
     ]
    },
    {
     "name": "stderr",
     "output_type": "stream",
     "text": [
      "/home/nakama/Documents/StateOfTheArtWSD/nlp/lib/python3.6/site-packages/sklearn/svm/base.py:929: ConvergenceWarning: Liblinear failed to converge, increase the number of iterations.\n",
      "  \"the number of iterations.\", ConvergenceWarning)\n",
      "/home/nakama/Documents/StateOfTheArtWSD/nlp/lib/python3.6/site-packages/sklearn/metrics/classification.py:1437: UndefinedMetricWarning: Precision and F-score are ill-defined and being set to 0.0 in labels with no predicted samples.\n",
      "  'precision', 'predicted', average, warn_for)\n"
     ]
    },
    {
     "name": "stdout",
     "output_type": "stream",
     "text": [
      "\n",
      "Training f1-score: 0.8929881213239533\n",
      "Cross validation f1-score: 0.477037742514416\n",
      "Dummy classifier f1-score:  0.14832535885167464\n",
      "Best parameters:\n",
      "C : 2.0\n",
      "max_iter : 10\n",
      "----------------------------------\n",
      "==================================\n",
      "kali\n"
     ]
    },
    {
     "name": "stderr",
     "output_type": "stream",
     "text": [
      "/home/nakama/Documents/StateOfTheArtWSD/nlp/lib/python3.6/site-packages/sklearn/svm/base.py:929: ConvergenceWarning: Liblinear failed to converge, increase the number of iterations.\n",
      "  \"the number of iterations.\", ConvergenceWarning)\n",
      "/home/nakama/Documents/StateOfTheArtWSD/nlp/lib/python3.6/site-packages/sklearn/metrics/classification.py:1437: UndefinedMetricWarning: Precision and F-score are ill-defined and being set to 0.0 in labels with no predicted samples.\n",
      "  'precision', 'predicted', average, warn_for)\n"
     ]
    },
    {
     "name": "stdout",
     "output_type": "stream",
     "text": [
      "\n",
      "Training f1-score: 0.9162003622306923\n",
      "Cross validation f1-score: 0.7553689280462736\n",
      "Dummy classifier f1-score:  0.2309711286089239\n",
      "Best parameters:\n",
      "C : 1.0\n",
      "max_iter : 20\n",
      "----------------------------------\n",
      "==================================\n",
      "bintang\n"
     ]
    },
    {
     "name": "stderr",
     "output_type": "stream",
     "text": [
      "/home/nakama/Documents/StateOfTheArtWSD/nlp/lib/python3.6/site-packages/sklearn/svm/base.py:929: ConvergenceWarning: Liblinear failed to converge, increase the number of iterations.\n",
      "  \"the number of iterations.\", ConvergenceWarning)\n",
      "/home/nakama/Documents/StateOfTheArtWSD/nlp/lib/python3.6/site-packages/sklearn/metrics/classification.py:1437: UndefinedMetricWarning: Precision and F-score are ill-defined and being set to 0.0 in labels with no predicted samples.\n",
      "  'precision', 'predicted', average, warn_for)\n"
     ]
    },
    {
     "name": "stdout",
     "output_type": "stream",
     "text": [
      "\n",
      "Training f1-score: 0.8285664023615831\n",
      "Cross validation f1-score: 0.7061195902862569\n",
      "Dummy classifier f1-score:  0.24113475177304963\n",
      "Best parameters:\n",
      "C : 4.0\n",
      "max_iter : 10\n",
      "----------------------------------\n",
      "==================================\n",
      "buah\n"
     ]
    },
    {
     "name": "stderr",
     "output_type": "stream",
     "text": [
      "/home/nakama/Documents/StateOfTheArtWSD/nlp/lib/python3.6/site-packages/sklearn/svm/base.py:929: ConvergenceWarning: Liblinear failed to converge, increase the number of iterations.\n",
      "  \"the number of iterations.\", ConvergenceWarning)\n",
      "/home/nakama/Documents/StateOfTheArtWSD/nlp/lib/python3.6/site-packages/sklearn/metrics/classification.py:1437: UndefinedMetricWarning: Precision and F-score are ill-defined and being set to 0.0 in labels with no predicted samples.\n",
      "  'precision', 'predicted', average, warn_for)\n"
     ]
    },
    {
     "name": "stdout",
     "output_type": "stream",
     "text": [
      "\n",
      "Training f1-score: 0.9956482123672364\n",
      "Cross validation f1-score: 0.8562935907848189\n",
      "Dummy classifier f1-score:  0.2397003745318352\n",
      "Best parameters:\n",
      "C : 1.0\n",
      "max_iter : 20\n",
      "----------------------------------\n",
      "==================================\n",
      "dunia\n"
     ]
    },
    {
     "name": "stderr",
     "output_type": "stream",
     "text": [
      "/home/nakama/Documents/StateOfTheArtWSD/nlp/lib/python3.6/site-packages/sklearn/svm/base.py:929: ConvergenceWarning: Liblinear failed to converge, increase the number of iterations.\n",
      "  \"the number of iterations.\", ConvergenceWarning)\n",
      "/home/nakama/Documents/StateOfTheArtWSD/nlp/lib/python3.6/site-packages/sklearn/metrics/classification.py:1437: UndefinedMetricWarning: Precision and F-score are ill-defined and being set to 0.0 in labels with no predicted samples.\n",
      "  'precision', 'predicted', average, warn_for)\n"
     ]
    },
    {
     "name": "stdout",
     "output_type": "stream",
     "text": [
      "\n",
      "Training f1-score: 0.9390248282005978\n",
      "Cross validation f1-score: 0.3802316896066896\n",
      "Dummy classifier f1-score:  0.1794871794871795\n",
      "Best parameters:\n",
      "C : 1.0\n",
      "max_iter : 20\n",
      "----------------------------------\n",
      "==================================\n",
      "bidang\n"
     ]
    },
    {
     "name": "stderr",
     "output_type": "stream",
     "text": [
      "/home/nakama/Documents/StateOfTheArtWSD/nlp/lib/python3.6/site-packages/sklearn/svm/base.py:929: ConvergenceWarning: Liblinear failed to converge, increase the number of iterations.\n",
      "  \"the number of iterations.\", ConvergenceWarning)\n",
      "/home/nakama/Documents/StateOfTheArtWSD/nlp/lib/python3.6/site-packages/sklearn/metrics/classification.py:1437: UndefinedMetricWarning: Precision and F-score are ill-defined and being set to 0.0 in labels with no predicted samples.\n",
      "  'precision', 'predicted', average, warn_for)\n"
     ]
    },
    {
     "name": "stdout",
     "output_type": "stream",
     "text": [
      "\n",
      "Training f1-score: 1.0\n",
      "Cross validation f1-score: 0.748885077186964\n",
      "Dummy classifier f1-score:  0.4854014598540146\n",
      "Best parameters:\n",
      "C : 2.0\n",
      "max_iter : 10\n",
      "----------------------------------\n",
      "==================================\n",
      "ketat\n"
     ]
    },
    {
     "name": "stderr",
     "output_type": "stream",
     "text": [
      "/home/nakama/Documents/StateOfTheArtWSD/nlp/lib/python3.6/site-packages/sklearn/svm/base.py:929: ConvergenceWarning: Liblinear failed to converge, increase the number of iterations.\n",
      "  \"the number of iterations.\", ConvergenceWarning)\n",
      "/home/nakama/Documents/StateOfTheArtWSD/nlp/lib/python3.6/site-packages/sklearn/metrics/classification.py:1437: UndefinedMetricWarning: Precision and F-score are ill-defined and being set to 0.0 in labels with no predicted samples.\n",
      "  'precision', 'predicted', average, warn_for)\n"
     ]
    },
    {
     "name": "stdout",
     "output_type": "stream",
     "text": [
      "\n",
      "Training f1-score: 0.9833181270046715\n",
      "Cross validation f1-score: 0.7023812932169569\n",
      "Dummy classifier f1-score:  0.1534090909090909\n",
      "Best parameters:\n",
      "C : 0.5\n",
      "max_iter : 20\n",
      "----------------------------------\n",
      "==================================\n",
      "baru\n"
     ]
    },
    {
     "name": "stderr",
     "output_type": "stream",
     "text": [
      "/home/nakama/Documents/StateOfTheArtWSD/nlp/lib/python3.6/site-packages/sklearn/svm/base.py:929: ConvergenceWarning: Liblinear failed to converge, increase the number of iterations.\n",
      "  \"the number of iterations.\", ConvergenceWarning)\n",
      "/home/nakama/Documents/StateOfTheArtWSD/nlp/lib/python3.6/site-packages/sklearn/metrics/classification.py:1437: UndefinedMetricWarning: Precision and F-score are ill-defined and being set to 0.0 in labels with no predicted samples.\n",
      "  'precision', 'predicted', average, warn_for)\n"
     ]
    },
    {
     "name": "stdout",
     "output_type": "stream",
     "text": [
      "\n",
      "Training f1-score: 0.9569731081926204\n",
      "Cross validation f1-score: 0.6849244723530438\n",
      "Dummy classifier f1-score:  0.284037558685446\n",
      "Best parameters:\n",
      "C : 0.25\n",
      "max_iter : 10\n",
      "----------------------------------\n",
      "==================================\n",
      "bunga\n"
     ]
    },
    {
     "name": "stderr",
     "output_type": "stream",
     "text": [
      "/home/nakama/Documents/StateOfTheArtWSD/nlp/lib/python3.6/site-packages/sklearn/svm/base.py:929: ConvergenceWarning: Liblinear failed to converge, increase the number of iterations.\n",
      "  \"the number of iterations.\", ConvergenceWarning)\n",
      "/home/nakama/Documents/StateOfTheArtWSD/nlp/lib/python3.6/site-packages/sklearn/metrics/classification.py:1437: UndefinedMetricWarning: Precision and F-score are ill-defined and being set to 0.0 in labels with no predicted samples.\n",
      "  'precision', 'predicted', average, warn_for)\n"
     ]
    },
    {
     "name": "stdout",
     "output_type": "stream",
     "text": [
      "\n",
      "Training f1-score: 1.0\n",
      "Cross validation f1-score: 0.8916200326284359\n",
      "Dummy classifier f1-score:  0.4703703703703704\n",
      "Best parameters:\n",
      "C : 2.0\n",
      "max_iter : 10\n",
      "----------------------------------\n",
      "==================================\n",
      "cabang\n"
     ]
    },
    {
     "name": "stderr",
     "output_type": "stream",
     "text": [
      "/home/nakama/Documents/StateOfTheArtWSD/nlp/lib/python3.6/site-packages/sklearn/svm/base.py:929: ConvergenceWarning: Liblinear failed to converge, increase the number of iterations.\n",
      "  \"the number of iterations.\", ConvergenceWarning)\n",
      "/home/nakama/Documents/StateOfTheArtWSD/nlp/lib/python3.6/site-packages/sklearn/metrics/classification.py:1437: UndefinedMetricWarning: Precision and F-score are ill-defined and being set to 0.0 in labels with no predicted samples.\n",
      "  'precision', 'predicted', average, warn_for)\n"
     ]
    },
    {
     "name": "stdout",
     "output_type": "stream",
     "text": [
      "\n",
      "Training f1-score: 0.9732731980288983\n",
      "Cross validation f1-score: 0.6881347946841834\n",
      "Dummy classifier f1-score:  0.3177570093457944\n",
      "Best parameters:\n",
      "C : 8.0\n",
      "max_iter : 10\n",
      "----------------------------------\n",
      "==================================\n",
      "berat\n"
     ]
    },
    {
     "name": "stderr",
     "output_type": "stream",
     "text": [
      "/home/nakama/Documents/StateOfTheArtWSD/nlp/lib/python3.6/site-packages/sklearn/svm/base.py:929: ConvergenceWarning: Liblinear failed to converge, increase the number of iterations.\n",
      "  \"the number of iterations.\", ConvergenceWarning)\n",
      "/home/nakama/Documents/StateOfTheArtWSD/nlp/lib/python3.6/site-packages/sklearn/metrics/classification.py:1437: UndefinedMetricWarning: Precision and F-score are ill-defined and being set to 0.0 in labels with no predicted samples.\n",
      "  'precision', 'predicted', average, warn_for)\n"
     ]
    },
    {
     "name": "stdout",
     "output_type": "stream",
     "text": [
      "\n",
      "Training f1-score: 0.975488689714042\n",
      "Cross validation f1-score: 0.43359307359307364\n",
      "Dummy classifier f1-score:  0.10769230769230768\n",
      "Best parameters:\n",
      "C : 1.0\n",
      "max_iter : 20\n",
      "----------------------------------\n",
      "==================================\n",
      "bulan\n"
     ]
    },
    {
     "name": "stderr",
     "output_type": "stream",
     "text": [
      "/home/nakama/Documents/StateOfTheArtWSD/nlp/lib/python3.6/site-packages/sklearn/svm/base.py:929: ConvergenceWarning: Liblinear failed to converge, increase the number of iterations.\n",
      "  \"the number of iterations.\", ConvergenceWarning)\n",
      "/home/nakama/Documents/StateOfTheArtWSD/nlp/lib/python3.6/site-packages/sklearn/metrics/classification.py:1437: UndefinedMetricWarning: Precision and F-score are ill-defined and being set to 0.0 in labels with no predicted samples.\n",
      "  'precision', 'predicted', average, warn_for)\n"
     ]
    },
    {
     "name": "stdout",
     "output_type": "stream",
     "text": [
      "\n",
      "Training f1-score: 0.990195561646724\n",
      "Cross validation f1-score: 0.8772890360676863\n",
      "Dummy classifier f1-score:  0.45614035087719296\n",
      "Best parameters:\n",
      "C : 0.5\n",
      "max_iter : 10\n",
      "----------------------------------\n",
      "==================================\n",
      "nilai\n"
     ]
    },
    {
     "name": "stderr",
     "output_type": "stream",
     "text": [
      "/home/nakama/Documents/StateOfTheArtWSD/nlp/lib/python3.6/site-packages/sklearn/svm/base.py:929: ConvergenceWarning: Liblinear failed to converge, increase the number of iterations.\n",
      "  \"the number of iterations.\", ConvergenceWarning)\n",
      "/home/nakama/Documents/StateOfTheArtWSD/nlp/lib/python3.6/site-packages/sklearn/metrics/classification.py:1437: UndefinedMetricWarning: Precision and F-score are ill-defined and being set to 0.0 in labels with no predicted samples.\n",
      "  'precision', 'predicted', average, warn_for)\n"
     ]
    },
    {
     "name": "stdout",
     "output_type": "stream",
     "text": [
      "\n",
      "Training f1-score: 0.9809125520395177\n",
      "Cross validation f1-score: 0.6068359676099613\n",
      "Dummy classifier f1-score:  0.12085308056872036\n",
      "Best parameters:\n",
      "C : 4.0\n",
      "max_iter : 40\n",
      "----------------------------------\n",
      "==================================\n",
      "menangkap\n"
     ]
    },
    {
     "name": "stderr",
     "output_type": "stream",
     "text": [
      "/home/nakama/Documents/StateOfTheArtWSD/nlp/lib/python3.6/site-packages/sklearn/svm/base.py:929: ConvergenceWarning: Liblinear failed to converge, increase the number of iterations.\n",
      "  \"the number of iterations.\", ConvergenceWarning)\n",
      "/home/nakama/Documents/StateOfTheArtWSD/nlp/lib/python3.6/site-packages/sklearn/metrics/classification.py:1437: UndefinedMetricWarning: Precision and F-score are ill-defined and being set to 0.0 in labels with no predicted samples.\n",
      "  'precision', 'predicted', average, warn_for)\n"
     ]
    },
    {
     "name": "stdout",
     "output_type": "stream",
     "text": [
      "\n",
      "Training f1-score: 0.9335112207636644\n",
      "Cross validation f1-score: 0.6460624767502551\n",
      "Dummy classifier f1-score:  0.29508196721311475\n",
      "Best parameters:\n",
      "C : 0.25\n",
      "max_iter : 10\n",
      "----------------------------------\n",
      "==================================\n",
      "sarung\n"
     ]
    },
    {
     "name": "stderr",
     "output_type": "stream",
     "text": [
      "/home/nakama/Documents/StateOfTheArtWSD/nlp/lib/python3.6/site-packages/sklearn/svm/base.py:929: ConvergenceWarning: Liblinear failed to converge, increase the number of iterations.\n",
      "  \"the number of iterations.\", ConvergenceWarning)\n",
      "/home/nakama/Documents/StateOfTheArtWSD/nlp/lib/python3.6/site-packages/sklearn/metrics/classification.py:1437: UndefinedMetricWarning: Precision and F-score are ill-defined and being set to 0.0 in labels with no predicted samples.\n",
      "  'precision', 'predicted', average, warn_for)\n"
     ]
    },
    {
     "name": "stdout",
     "output_type": "stream",
     "text": [
      "\n",
      "Training f1-score: 0.9945528431852898\n",
      "Cross validation f1-score: 0.9290965830501181\n",
      "Dummy classifier f1-score:  0.37\n",
      "Best parameters:\n",
      "C : 0.5\n",
      "max_iter : 20\n",
      "----------------------------------\n",
      "==================================\n",
      "tengah\n"
     ]
    },
    {
     "name": "stderr",
     "output_type": "stream",
     "text": [
      "/home/nakama/Documents/StateOfTheArtWSD/nlp/lib/python3.6/site-packages/sklearn/svm/base.py:929: ConvergenceWarning: Liblinear failed to converge, increase the number of iterations.\n",
      "  \"the number of iterations.\", ConvergenceWarning)\n",
      "/home/nakama/Documents/StateOfTheArtWSD/nlp/lib/python3.6/site-packages/sklearn/metrics/classification.py:1437: UndefinedMetricWarning: Precision and F-score are ill-defined and being set to 0.0 in labels with no predicted samples.\n",
      "  'precision', 'predicted', average, warn_for)\n"
     ]
    },
    {
     "name": "stdout",
     "output_type": "stream",
     "text": [
      "\n",
      "Training f1-score: 1.0\n",
      "Cross validation f1-score: 0.6228455988455989\n",
      "Dummy classifier f1-score:  0.1624203821656051\n",
      "Best parameters:\n",
      "C : 0.5\n",
      "max_iter : 40\n",
      "----------------------------------\n",
      "==================================\n",
      "besar\n"
     ]
    },
    {
     "name": "stderr",
     "output_type": "stream",
     "text": [
      "/home/nakama/Documents/StateOfTheArtWSD/nlp/lib/python3.6/site-packages/sklearn/svm/base.py:929: ConvergenceWarning: Liblinear failed to converge, increase the number of iterations.\n",
      "  \"the number of iterations.\", ConvergenceWarning)\n",
      "/home/nakama/Documents/StateOfTheArtWSD/nlp/lib/python3.6/site-packages/sklearn/metrics/classification.py:1437: UndefinedMetricWarning: Precision and F-score are ill-defined and being set to 0.0 in labels with no predicted samples.\n",
      "  'precision', 'predicted', average, warn_for)\n"
     ]
    },
    {
     "name": "stdout",
     "output_type": "stream",
     "text": [
      "\n",
      "Training f1-score: 0.9823934930317909\n",
      "Cross validation f1-score: 0.49992959635961665\n",
      "Dummy classifier f1-score:  0.15732758620689655\n",
      "Best parameters:\n",
      "C : 1.0\n",
      "max_iter : 20\n",
      "----------------------------------\n",
      "==================================\n",
      "mengeluarkan\n"
     ]
    },
    {
     "name": "stderr",
     "output_type": "stream",
     "text": [
      "/home/nakama/Documents/StateOfTheArtWSD/nlp/lib/python3.6/site-packages/sklearn/svm/base.py:929: ConvergenceWarning: Liblinear failed to converge, increase the number of iterations.\n",
      "  \"the number of iterations.\", ConvergenceWarning)\n",
      "/home/nakama/Documents/StateOfTheArtWSD/nlp/lib/python3.6/site-packages/sklearn/metrics/classification.py:1437: UndefinedMetricWarning: Precision and F-score are ill-defined and being set to 0.0 in labels with no predicted samples.\n",
      "  'precision', 'predicted', average, warn_for)\n"
     ]
    },
    {
     "name": "stdout",
     "output_type": "stream",
     "text": [
      "\n",
      "Training f1-score: 0.9407570207570206\n",
      "Cross validation f1-score: 0.46480226213666526\n",
      "Dummy classifier f1-score:  0.13970588235294118\n",
      "Best parameters:\n",
      "C : 8.0\n",
      "max_iter : 20\n",
      "----------------------------------\n",
      "==================================\n",
      "memecahkan\n"
     ]
    },
    {
     "name": "stderr",
     "output_type": "stream",
     "text": [
      "/home/nakama/Documents/StateOfTheArtWSD/nlp/lib/python3.6/site-packages/sklearn/svm/base.py:929: ConvergenceWarning: Liblinear failed to converge, increase the number of iterations.\n",
      "  \"the number of iterations.\", ConvergenceWarning)\n",
      "/home/nakama/Documents/StateOfTheArtWSD/nlp/lib/python3.6/site-packages/sklearn/metrics/classification.py:1437: UndefinedMetricWarning: Precision and F-score are ill-defined and being set to 0.0 in labels with no predicted samples.\n",
      "  'precision', 'predicted', average, warn_for)\n"
     ]
    },
    {
     "name": "stdout",
     "output_type": "stream",
     "text": [
      "\n",
      "Training f1-score: 1.0\n",
      "Cross validation f1-score: 0.8137133928326756\n",
      "Dummy classifier f1-score:  0.2164821648216482\n",
      "Best parameters:\n",
      "C : 0.25\n",
      "max_iter : 20\n",
      "----------------------------------\n",
      "==================================\n",
      "panas\n"
     ]
    },
    {
     "name": "stderr",
     "output_type": "stream",
     "text": [
      "/home/nakama/Documents/StateOfTheArtWSD/nlp/lib/python3.6/site-packages/sklearn/svm/base.py:929: ConvergenceWarning: Liblinear failed to converge, increase the number of iterations.\n",
      "  \"the number of iterations.\", ConvergenceWarning)\n",
      "/home/nakama/Documents/StateOfTheArtWSD/nlp/lib/python3.6/site-packages/sklearn/metrics/classification.py:1437: UndefinedMetricWarning: Precision and F-score are ill-defined and being set to 0.0 in labels with no predicted samples.\n",
      "  'precision', 'predicted', average, warn_for)\n"
     ]
    },
    {
     "name": "stdout",
     "output_type": "stream",
     "text": [
      "\n",
      "Training f1-score: 0.8184863047248369\n",
      "Cross validation f1-score: 0.6866133943242495\n",
      "Dummy classifier f1-score:  0.23008849557522124\n",
      "Best parameters:\n",
      "C : 4.0\n",
      "max_iter : 10\n",
      "----------------------------------\n",
      "==================================\n",
      "badan\n"
     ]
    },
    {
     "name": "stderr",
     "output_type": "stream",
     "text": [
      "/home/nakama/Documents/StateOfTheArtWSD/nlp/lib/python3.6/site-packages/sklearn/svm/base.py:929: ConvergenceWarning: Liblinear failed to converge, increase the number of iterations.\n",
      "  \"the number of iterations.\", ConvergenceWarning)\n",
      "/home/nakama/Documents/StateOfTheArtWSD/nlp/lib/python3.6/site-packages/sklearn/metrics/classification.py:1437: UndefinedMetricWarning: Precision and F-score are ill-defined and being set to 0.0 in labels with no predicted samples.\n",
      "  'precision', 'predicted', average, warn_for)\n"
     ]
    },
    {
     "name": "stdout",
     "output_type": "stream",
     "text": [
      "\n",
      "Training f1-score: 1.0\n",
      "Cross validation f1-score: 0.7739941744011081\n",
      "Dummy classifier f1-score:  0.27255985267034993\n",
      "Best parameters:\n",
      "C : 0.5\n",
      "max_iter : 10\n",
      "----------------------------------\n",
      "==================================\n",
      "cerah\n"
     ]
    },
    {
     "name": "stderr",
     "output_type": "stream",
     "text": [
      "/home/nakama/Documents/StateOfTheArtWSD/nlp/lib/python3.6/site-packages/sklearn/svm/base.py:929: ConvergenceWarning: Liblinear failed to converge, increase the number of iterations.\n",
      "  \"the number of iterations.\", ConvergenceWarning)\n",
      "/home/nakama/Documents/StateOfTheArtWSD/nlp/lib/python3.6/site-packages/sklearn/metrics/classification.py:1437: UndefinedMetricWarning: Precision and F-score are ill-defined and being set to 0.0 in labels with no predicted samples.\n",
      "  'precision', 'predicted', average, warn_for)\n"
     ]
    },
    {
     "name": "stdout",
     "output_type": "stream",
     "text": [
      "\n",
      "Training f1-score: 1.0\n",
      "Cross validation f1-score: 0.8179616923956546\n",
      "Dummy classifier f1-score:  0.47586206896551725\n",
      "Best parameters:\n",
      "C : 4.0\n",
      "max_iter : 10\n",
      "----------------------------------\n",
      "==================================\n",
      "mengikat\n"
     ]
    },
    {
     "name": "stderr",
     "output_type": "stream",
     "text": [
      "/home/nakama/Documents/StateOfTheArtWSD/nlp/lib/python3.6/site-packages/sklearn/svm/base.py:929: ConvergenceWarning: Liblinear failed to converge, increase the number of iterations.\n",
      "  \"the number of iterations.\", ConvergenceWarning)\n",
      "/home/nakama/Documents/StateOfTheArtWSD/nlp/lib/python3.6/site-packages/sklearn/metrics/classification.py:1437: UndefinedMetricWarning: Precision and F-score are ill-defined and being set to 0.0 in labels with no predicted samples.\n",
      "  'precision', 'predicted', average, warn_for)\n"
     ]
    },
    {
     "name": "stdout",
     "output_type": "stream",
     "text": [
      "\n",
      "Training f1-score: 1.0\n",
      "Cross validation f1-score: 0.5744248227664785\n",
      "Dummy classifier f1-score:  0.13793103448275862\n",
      "Best parameters:\n",
      "C : 4.0\n",
      "max_iter : 40\n",
      "----------------------------------\n",
      "==================================\n",
      "pembagian\n"
     ]
    },
    {
     "name": "stderr",
     "output_type": "stream",
     "text": [
      "/home/nakama/Documents/StateOfTheArtWSD/nlp/lib/python3.6/site-packages/sklearn/svm/base.py:929: ConvergenceWarning: Liblinear failed to converge, increase the number of iterations.\n",
      "  \"the number of iterations.\", ConvergenceWarning)\n",
      "/home/nakama/Documents/StateOfTheArtWSD/nlp/lib/python3.6/site-packages/sklearn/metrics/classification.py:1437: UndefinedMetricWarning: Precision and F-score are ill-defined and being set to 0.0 in labels with no predicted samples.\n",
      "  'precision', 'predicted', average, warn_for)\n"
     ]
    },
    {
     "name": "stdout",
     "output_type": "stream",
     "text": [
      "\n",
      "Training f1-score: 0.9788723181580324\n",
      "Cross validation f1-score: 0.43043680856180855\n",
      "Dummy classifier f1-score:  0.1721698113207547\n",
      "Best parameters:\n",
      "C : 0.5\n",
      "max_iter : 40\n",
      "----------------------------------\n",
      "==================================\n",
      "kabur\n"
     ]
    },
    {
     "name": "stderr",
     "output_type": "stream",
     "text": [
      "/home/nakama/Documents/StateOfTheArtWSD/nlp/lib/python3.6/site-packages/sklearn/svm/base.py:929: ConvergenceWarning: Liblinear failed to converge, increase the number of iterations.\n",
      "  \"the number of iterations.\", ConvergenceWarning)\n",
      "/home/nakama/Documents/StateOfTheArtWSD/nlp/lib/python3.6/site-packages/sklearn/metrics/classification.py:1437: UndefinedMetricWarning: Precision and F-score are ill-defined and being set to 0.0 in labels with no predicted samples.\n",
      "  'precision', 'predicted', average, warn_for)\n"
     ]
    },
    {
     "name": "stdout",
     "output_type": "stream",
     "text": [
      "\n",
      "Training f1-score: 1.0\n",
      "Cross validation f1-score: 0.4893955596088353\n",
      "Dummy classifier f1-score:  0.3182674199623352\n",
      "Best parameters:\n",
      "C : 0.25\n",
      "max_iter : 10\n",
      "----------------------------------\n",
      "==================================\n",
      "mendorong\n"
     ]
    },
    {
     "name": "stderr",
     "output_type": "stream",
     "text": [
      "/home/nakama/Documents/StateOfTheArtWSD/nlp/lib/python3.6/site-packages/sklearn/svm/base.py:929: ConvergenceWarning: Liblinear failed to converge, increase the number of iterations.\n",
      "  \"the number of iterations.\", ConvergenceWarning)\n",
      "/home/nakama/Documents/StateOfTheArtWSD/nlp/lib/python3.6/site-packages/sklearn/metrics/classification.py:1437: UndefinedMetricWarning: Precision and F-score are ill-defined and being set to 0.0 in labels with no predicted samples.\n",
      "  'precision', 'predicted', average, warn_for)\n"
     ]
    },
    {
     "name": "stdout",
     "output_type": "stream",
     "text": [
      "\n",
      "Training f1-score: 0.9307407407407409\n",
      "Cross validation f1-score: 0.7037744448374328\n",
      "Dummy classifier f1-score:  0.4672364672364672\n",
      "Best parameters:\n",
      "C : 8.0\n",
      "max_iter : 10\n",
      "----------------------------------\n",
      "==================================\n",
      "mengandung\n"
     ]
    },
    {
     "name": "stderr",
     "output_type": "stream",
     "text": [
      "/home/nakama/Documents/StateOfTheArtWSD/nlp/lib/python3.6/site-packages/sklearn/svm/base.py:929: ConvergenceWarning: Liblinear failed to converge, increase the number of iterations.\n",
      "  \"the number of iterations.\", ConvergenceWarning)\n",
      "/home/nakama/Documents/StateOfTheArtWSD/nlp/lib/python3.6/site-packages/sklearn/metrics/classification.py:1437: UndefinedMetricWarning: Precision and F-score are ill-defined and being set to 0.0 in labels with no predicted samples.\n",
      "  'precision', 'predicted', average, warn_for)\n"
     ]
    },
    {
     "name": "stdout",
     "output_type": "stream",
     "text": [
      "\n",
      "Training f1-score: 1.0\n",
      "Cross validation f1-score: 0.7934011934011933\n",
      "Dummy classifier f1-score:  0.4895833333333333\n",
      "Best parameters:\n",
      "C : 0.25\n",
      "max_iter : 20\n",
      "----------------------------------\n",
      "==================================\n",
      "kaki\n"
     ]
    },
    {
     "name": "stderr",
     "output_type": "stream",
     "text": [
      "/home/nakama/Documents/StateOfTheArtWSD/nlp/lib/python3.6/site-packages/sklearn/svm/base.py:929: ConvergenceWarning: Liblinear failed to converge, increase the number of iterations.\n",
      "  \"the number of iterations.\", ConvergenceWarning)\n",
      "/home/nakama/Documents/StateOfTheArtWSD/nlp/lib/python3.6/site-packages/sklearn/metrics/classification.py:1437: UndefinedMetricWarning: Precision and F-score are ill-defined and being set to 0.0 in labels with no predicted samples.\n",
      "  'precision', 'predicted', average, warn_for)\n"
     ]
    },
    {
     "name": "stdout",
     "output_type": "stream",
     "text": [
      "\n",
      "Training f1-score: 0.9911490437806227\n",
      "Cross validation f1-score: 0.9017498926194578\n",
      "Dummy classifier f1-score:  0.24444444444444446\n",
      "Best parameters:\n",
      "C : 0.5\n",
      "max_iter : 10\n",
      "----------------------------------\n",
      "==================================\n",
      "coklat\n"
     ]
    },
    {
     "name": "stderr",
     "output_type": "stream",
     "text": [
      "/home/nakama/Documents/StateOfTheArtWSD/nlp/lib/python3.6/site-packages/sklearn/svm/base.py:929: ConvergenceWarning: Liblinear failed to converge, increase the number of iterations.\n",
      "  \"the number of iterations.\", ConvergenceWarning)\n",
      "/home/nakama/Documents/StateOfTheArtWSD/nlp/lib/python3.6/site-packages/sklearn/metrics/classification.py:1437: UndefinedMetricWarning: Precision and F-score are ill-defined and being set to 0.0 in labels with no predicted samples.\n",
      "  'precision', 'predicted', average, warn_for)\n"
     ]
    },
    {
     "name": "stdout",
     "output_type": "stream",
     "text": [
      "\n",
      "Training f1-score: 0.9914311524067623\n",
      "Cross validation f1-score: 0.6892647842111764\n",
      "Dummy classifier f1-score:  0.3037974683544304\n",
      "Best parameters:\n",
      "C : 1.0\n",
      "max_iter : 10\n",
      "----------------------------------\n",
      "==================================\n",
      "harapan\n"
     ]
    },
    {
     "name": "stderr",
     "output_type": "stream",
     "text": [
      "/home/nakama/Documents/StateOfTheArtWSD/nlp/lib/python3.6/site-packages/sklearn/svm/base.py:929: ConvergenceWarning: Liblinear failed to converge, increase the number of iterations.\n",
      "  \"the number of iterations.\", ConvergenceWarning)\n",
      "/home/nakama/Documents/StateOfTheArtWSD/nlp/lib/python3.6/site-packages/sklearn/metrics/classification.py:1437: UndefinedMetricWarning: Precision and F-score are ill-defined and being set to 0.0 in labels with no predicted samples.\n",
      "  'precision', 'predicted', average, warn_for)\n"
     ]
    },
    {
     "name": "stdout",
     "output_type": "stream",
     "text": [
      "\n",
      "Training f1-score: 1.0\n",
      "Cross validation f1-score: 0.5730835486649439\n",
      "Dummy classifier f1-score:  0.2818428184281843\n",
      "Best parameters:\n",
      "C : 8.0\n",
      "max_iter : 40\n",
      "----------------------------------\n",
      "==================================\n",
      "membawa\n"
     ]
    },
    {
     "name": "stderr",
     "output_type": "stream",
     "text": [
      "/home/nakama/Documents/StateOfTheArtWSD/nlp/lib/python3.6/site-packages/sklearn/svm/base.py:929: ConvergenceWarning: Liblinear failed to converge, increase the number of iterations.\n",
      "  \"the number of iterations.\", ConvergenceWarning)\n",
      "/home/nakama/Documents/StateOfTheArtWSD/nlp/lib/python3.6/site-packages/sklearn/metrics/classification.py:1437: UndefinedMetricWarning: Precision and F-score are ill-defined and being set to 0.0 in labels with no predicted samples.\n",
      "  'precision', 'predicted', average, warn_for)\n"
     ]
    },
    {
     "name": "stdout",
     "output_type": "stream",
     "text": [
      "\n",
      "Training f1-score: 0.9627820069680534\n",
      "Cross validation f1-score: 0.3061915987103957\n",
      "Dummy classifier f1-score:  0.05442176870748299\n",
      "Best parameters:\n",
      "C : 1.0\n",
      "max_iter : 40\n",
      "----------------------------------\n",
      "==================================\n",
      "menjaga\n"
     ]
    },
    {
     "name": "stderr",
     "output_type": "stream",
     "text": [
      "/home/nakama/Documents/StateOfTheArtWSD/nlp/lib/python3.6/site-packages/sklearn/svm/base.py:929: ConvergenceWarning: Liblinear failed to converge, increase the number of iterations.\n",
      "  \"the number of iterations.\", ConvergenceWarning)\n",
      "/home/nakama/Documents/StateOfTheArtWSD/nlp/lib/python3.6/site-packages/sklearn/metrics/classification.py:1437: UndefinedMetricWarning: Precision and F-score are ill-defined and being set to 0.0 in labels with no predicted samples.\n",
      "  'precision', 'predicted', average, warn_for)\n"
     ]
    },
    {
     "name": "stdout",
     "output_type": "stream",
     "text": [
      "\n",
      "Training f1-score: 0.8493725682378449\n",
      "Cross validation f1-score: 0.35705142521318994\n",
      "Dummy classifier f1-score:  0.1634980988593156\n",
      "Best parameters:\n",
      "C : 2.0\n",
      "max_iter : 20\n",
      "----------------------------------\n",
      "==================================\n",
      "halaman\n"
     ]
    },
    {
     "name": "stderr",
     "output_type": "stream",
     "text": [
      "/home/nakama/Documents/StateOfTheArtWSD/nlp/lib/python3.6/site-packages/sklearn/svm/base.py:929: ConvergenceWarning: Liblinear failed to converge, increase the number of iterations.\n",
      "  \"the number of iterations.\", ConvergenceWarning)\n",
      "/home/nakama/Documents/StateOfTheArtWSD/nlp/lib/python3.6/site-packages/sklearn/metrics/classification.py:1437: UndefinedMetricWarning: Precision and F-score are ill-defined and being set to 0.0 in labels with no predicted samples.\n",
      "  'precision', 'predicted', average, warn_for)\n"
     ]
    },
    {
     "name": "stdout",
     "output_type": "stream",
     "text": [
      "\n",
      "Training f1-score: 0.9002057613168724\n",
      "Cross validation f1-score: 0.6939938556067589\n",
      "Dummy classifier f1-score:  0.24637681159420288\n",
      "Best parameters:\n",
      "C : 0.5\n",
      "max_iter : 10\n",
      "----------------------------------\n",
      "==================================\n",
      "atas\n"
     ]
    },
    {
     "name": "stderr",
     "output_type": "stream",
     "text": [
      "/home/nakama/Documents/StateOfTheArtWSD/nlp/lib/python3.6/site-packages/sklearn/svm/base.py:929: ConvergenceWarning: Liblinear failed to converge, increase the number of iterations.\n",
      "  \"the number of iterations.\", ConvergenceWarning)\n",
      "/home/nakama/Documents/StateOfTheArtWSD/nlp/lib/python3.6/site-packages/sklearn/metrics/classification.py:1437: UndefinedMetricWarning: Precision and F-score are ill-defined and being set to 0.0 in labels with no predicted samples.\n",
      "  'precision', 'predicted', average, warn_for)\n"
     ]
    },
    {
     "name": "stdout",
     "output_type": "stream",
     "text": [
      "\n",
      "Training f1-score: 0.9950170785613823\n",
      "Cross validation f1-score: 0.4838505938505938\n",
      "Dummy classifier f1-score:  0.05970149253731344\n",
      "Best parameters:\n",
      "C : 4.0\n",
      "max_iter : 40\n",
      "----------------------------------\n",
      "==================================\n",
      "asing\n"
     ]
    },
    {
     "name": "stderr",
     "output_type": "stream",
     "text": [
      "/home/nakama/Documents/StateOfTheArtWSD/nlp/lib/python3.6/site-packages/sklearn/svm/base.py:929: ConvergenceWarning: Liblinear failed to converge, increase the number of iterations.\n",
      "  \"the number of iterations.\", ConvergenceWarning)\n",
      "/home/nakama/Documents/StateOfTheArtWSD/nlp/lib/python3.6/site-packages/sklearn/metrics/classification.py:1437: UndefinedMetricWarning: Precision and F-score are ill-defined and being set to 0.0 in labels with no predicted samples.\n",
      "  'precision', 'predicted', average, warn_for)\n"
     ]
    },
    {
     "name": "stdout",
     "output_type": "stream",
     "text": [
      "\n",
      "Training f1-score: 1.0\n",
      "Cross validation f1-score: 0.7192344497607654\n",
      "Dummy classifier f1-score:  0.4825174825174825\n",
      "Best parameters:\n",
      "C : 0.5\n",
      "max_iter : 20\n",
      "----------------------------------\n",
      "==================================\n",
      "jam\n"
     ]
    },
    {
     "name": "stderr",
     "output_type": "stream",
     "text": [
      "/home/nakama/Documents/StateOfTheArtWSD/nlp/lib/python3.6/site-packages/sklearn/svm/base.py:929: ConvergenceWarning: Liblinear failed to converge, increase the number of iterations.\n",
      "  \"the number of iterations.\", ConvergenceWarning)\n",
      "/home/nakama/Documents/StateOfTheArtWSD/nlp/lib/python3.6/site-packages/sklearn/metrics/classification.py:1437: UndefinedMetricWarning: Precision and F-score are ill-defined and being set to 0.0 in labels with no predicted samples.\n",
      "  'precision', 'predicted', average, warn_for)\n"
     ]
    },
    {
     "name": "stdout",
     "output_type": "stream",
     "text": [
      "\n",
      "Training f1-score: 0.993789138692126\n",
      "Cross validation f1-score: 0.7174182193501835\n",
      "Dummy classifier f1-score:  0.17924528301886794\n",
      "Best parameters:\n",
      "C : 0.25\n",
      "max_iter : 40\n",
      "----------------------------------\n",
      "==================================\n",
      "lingkungan\n"
     ]
    },
    {
     "name": "stderr",
     "output_type": "stream",
     "text": [
      "/home/nakama/Documents/StateOfTheArtWSD/nlp/lib/python3.6/site-packages/sklearn/svm/base.py:929: ConvergenceWarning: Liblinear failed to converge, increase the number of iterations.\n",
      "  \"the number of iterations.\", ConvergenceWarning)\n",
      "/home/nakama/Documents/StateOfTheArtWSD/nlp/lib/python3.6/site-packages/sklearn/metrics/classification.py:1437: UndefinedMetricWarning: Precision and F-score are ill-defined and being set to 0.0 in labels with no predicted samples.\n",
      "  'precision', 'predicted', average, warn_for)\n"
     ]
    },
    {
     "name": "stdout",
     "output_type": "stream",
     "text": [
      "\n",
      "Training f1-score: 0.9665097692481059\n",
      "Cross validation f1-score: 0.537354603452607\n",
      "Dummy classifier f1-score:  0.2222222222222222\n",
      "Best parameters:\n",
      "C : 0.25\n",
      "max_iter : 20\n",
      "----------------------------------\n",
      "==================================\n",
      "bisa\n"
     ]
    },
    {
     "name": "stderr",
     "output_type": "stream",
     "text": [
      "/home/nakama/Documents/StateOfTheArtWSD/nlp/lib/python3.6/site-packages/sklearn/svm/base.py:929: ConvergenceWarning: Liblinear failed to converge, increase the number of iterations.\n",
      "  \"the number of iterations.\", ConvergenceWarning)\n",
      "/home/nakama/Documents/StateOfTheArtWSD/nlp/lib/python3.6/site-packages/sklearn/metrics/classification.py:1437: UndefinedMetricWarning: Precision and F-score are ill-defined and being set to 0.0 in labels with no predicted samples.\n",
      "  'precision', 'predicted', average, warn_for)\n"
     ]
    },
    {
     "name": "stdout",
     "output_type": "stream",
     "text": [
      "\n",
      "Training f1-score: 0.8868686868686868\n",
      "Cross validation f1-score: 0.5705478642978643\n",
      "Dummy classifier f1-score:  0.43718592964824116\n",
      "Best parameters:\n",
      "C : 2.0\n",
      "max_iter : 10\n",
      "----------------------------------\n",
      "==================================\n",
      "mata\n"
     ]
    },
    {
     "name": "stderr",
     "output_type": "stream",
     "text": [
      "/home/nakama/Documents/StateOfTheArtWSD/nlp/lib/python3.6/site-packages/sklearn/svm/base.py:929: ConvergenceWarning: Liblinear failed to converge, increase the number of iterations.\n",
      "  \"the number of iterations.\", ConvergenceWarning)\n",
      "/home/nakama/Documents/StateOfTheArtWSD/nlp/lib/python3.6/site-packages/sklearn/metrics/classification.py:1437: UndefinedMetricWarning: Precision and F-score are ill-defined and being set to 0.0 in labels with no predicted samples.\n",
      "  'precision', 'predicted', average, warn_for)\n"
     ]
    },
    {
     "name": "stdout",
     "output_type": "stream",
     "text": [
      "\n",
      "Training f1-score: 1.0\n",
      "Cross validation f1-score: 0.7764941383305228\n",
      "Dummy classifier f1-score:  0.14371257485029942\n",
      "Best parameters:\n",
      "C : 8.0\n",
      "max_iter : 40\n",
      "----------------------------------\n",
      "==================================\n",
      "mengisi\n"
     ]
    },
    {
     "name": "stderr",
     "output_type": "stream",
     "text": [
      "/home/nakama/Documents/StateOfTheArtWSD/nlp/lib/python3.6/site-packages/sklearn/svm/base.py:929: ConvergenceWarning: Liblinear failed to converge, increase the number of iterations.\n",
      "  \"the number of iterations.\", ConvergenceWarning)\n",
      "/home/nakama/Documents/StateOfTheArtWSD/nlp/lib/python3.6/site-packages/sklearn/metrics/classification.py:1437: UndefinedMetricWarning: Precision and F-score are ill-defined and being set to 0.0 in labels with no predicted samples.\n",
      "  'precision', 'predicted', average, warn_for)\n"
     ]
    },
    {
     "name": "stdout",
     "output_type": "stream",
     "text": [
      "\n",
      "Training f1-score: 0.8604085182460081\n",
      "Cross validation f1-score: 0.4691328151054236\n",
      "Dummy classifier f1-score:  0.14791666666666667\n",
      "Best parameters:\n",
      "C : 8.0\n",
      "max_iter : 10\n",
      "----------------------------------\n",
      "==================================\n",
      "kulit\n"
     ]
    },
    {
     "name": "stderr",
     "output_type": "stream",
     "text": [
      "/home/nakama/Documents/StateOfTheArtWSD/nlp/lib/python3.6/site-packages/sklearn/svm/base.py:929: ConvergenceWarning: Liblinear failed to converge, increase the number of iterations.\n",
      "  \"the number of iterations.\", ConvergenceWarning)\n",
      "/home/nakama/Documents/StateOfTheArtWSD/nlp/lib/python3.6/site-packages/sklearn/metrics/classification.py:1437: UndefinedMetricWarning: Precision and F-score are ill-defined and being set to 0.0 in labels with no predicted samples.\n",
      "  'precision', 'predicted', average, warn_for)\n"
     ]
    },
    {
     "name": "stdout",
     "output_type": "stream",
     "text": [
      "\n",
      "Training f1-score: 0.9727526521496369\n",
      "Cross validation f1-score: 0.71497994802231\n",
      "Dummy classifier f1-score:  0.26506024096385544\n",
      "Best parameters:\n",
      "C : 0.25\n",
      "max_iter : 40\n",
      "----------------------------------\n",
      "==================================\n",
      "mengejar\n"
     ]
    },
    {
     "name": "stderr",
     "output_type": "stream",
     "text": [
      "/home/nakama/Documents/StateOfTheArtWSD/nlp/lib/python3.6/site-packages/sklearn/svm/base.py:929: ConvergenceWarning: Liblinear failed to converge, increase the number of iterations.\n",
      "  \"the number of iterations.\", ConvergenceWarning)\n",
      "/home/nakama/Documents/StateOfTheArtWSD/nlp/lib/python3.6/site-packages/sklearn/metrics/classification.py:1437: UndefinedMetricWarning: Precision and F-score are ill-defined and being set to 0.0 in labels with no predicted samples.\n",
      "  'precision', 'predicted', average, warn_for)\n"
     ]
    },
    {
     "name": "stdout",
     "output_type": "stream",
     "text": [
      "\n",
      "Training f1-score: 0.9266756635177688\n",
      "Cross validation f1-score: 0.7725471025164053\n",
      "Dummy classifier f1-score:  0.38257575757575757\n",
      "Best parameters:\n",
      "C : 0.25\n",
      "max_iter : 10\n",
      "----------------------------------\n",
      "==================================\n",
      "jaringan\n"
     ]
    },
    {
     "name": "stderr",
     "output_type": "stream",
     "text": [
      "/home/nakama/Documents/StateOfTheArtWSD/nlp/lib/python3.6/site-packages/sklearn/svm/base.py:929: ConvergenceWarning: Liblinear failed to converge, increase the number of iterations.\n",
      "  \"the number of iterations.\", ConvergenceWarning)\n",
      "/home/nakama/Documents/StateOfTheArtWSD/nlp/lib/python3.6/site-packages/sklearn/metrics/classification.py:1437: UndefinedMetricWarning: Precision and F-score are ill-defined and being set to 0.0 in labels with no predicted samples.\n",
      "  'precision', 'predicted', average, warn_for)\n"
     ]
    },
    {
     "name": "stdout",
     "output_type": "stream",
     "text": [
      "\n",
      "Training f1-score: 0.9907828282828284\n",
      "Cross validation f1-score: 0.7106927713810742\n",
      "Dummy classifier f1-score:  0.20202020202020202\n",
      "Best parameters:\n",
      "C : 0.5\n",
      "max_iter : 40\n",
      "----------------------------------\n",
      "==================================\n",
      "lebat\n"
     ]
    },
    {
     "name": "stderr",
     "output_type": "stream",
     "text": [
      "/home/nakama/Documents/StateOfTheArtWSD/nlp/lib/python3.6/site-packages/sklearn/svm/base.py:929: ConvergenceWarning: Liblinear failed to converge, increase the number of iterations.\n",
      "  \"the number of iterations.\", ConvergenceWarning)\n",
      "/home/nakama/Documents/StateOfTheArtWSD/nlp/lib/python3.6/site-packages/sklearn/metrics/classification.py:1437: UndefinedMetricWarning: Precision and F-score are ill-defined and being set to 0.0 in labels with no predicted samples.\n",
      "  'precision', 'predicted', average, warn_for)\n"
     ]
    },
    {
     "name": "stdout",
     "output_type": "stream",
     "text": [
      "\n",
      "Training f1-score: 0.9821666395972064\n",
      "Cross validation f1-score: 0.9157203374441225\n",
      "Dummy classifier f1-score:  0.3920265780730897\n",
      "Best parameters:\n",
      "C : 0.25\n",
      "max_iter : 10\n",
      "----------------------------------\n",
      "==================================\n",
      "rapat\n"
     ]
    },
    {
     "name": "stderr",
     "output_type": "stream",
     "text": [
      "/home/nakama/Documents/StateOfTheArtWSD/nlp/lib/python3.6/site-packages/sklearn/svm/base.py:929: ConvergenceWarning: Liblinear failed to converge, increase the number of iterations.\n",
      "  \"the number of iterations.\", ConvergenceWarning)\n",
      "/home/nakama/Documents/StateOfTheArtWSD/nlp/lib/python3.6/site-packages/sklearn/metrics/classification.py:1437: UndefinedMetricWarning: Precision and F-score are ill-defined and being set to 0.0 in labels with no predicted samples.\n",
      "  'precision', 'predicted', average, warn_for)\n"
     ]
    },
    {
     "name": "stdout",
     "output_type": "stream",
     "text": [
      "\n",
      "Training f1-score: 1.0\n",
      "Cross validation f1-score: 0.8662601673411885\n",
      "Dummy classifier f1-score:  0.45964912280701753\n",
      "Best parameters:\n",
      "C : 0.5\n",
      "max_iter : 10\n",
      "----------------------------------\n",
      "==================================\n",
      "dalam\n"
     ]
    },
    {
     "name": "stderr",
     "output_type": "stream",
     "text": [
      "/home/nakama/Documents/StateOfTheArtWSD/nlp/lib/python3.6/site-packages/sklearn/svm/base.py:929: ConvergenceWarning: Liblinear failed to converge, increase the number of iterations.\n",
      "  \"the number of iterations.\", ConvergenceWarning)\n",
      "/home/nakama/Documents/StateOfTheArtWSD/nlp/lib/python3.6/site-packages/sklearn/metrics/classification.py:1437: UndefinedMetricWarning: Precision and F-score are ill-defined and being set to 0.0 in labels with no predicted samples.\n",
      "  'precision', 'predicted', average, warn_for)\n"
     ]
    },
    {
     "name": "stdout",
     "output_type": "stream",
     "text": [
      "\n",
      "Training f1-score: 0.8981164973599075\n",
      "Cross validation f1-score: 0.2865048821460952\n",
      "Dummy classifier f1-score:  0.07039337474120083\n",
      "Best parameters:\n",
      "C : 2.0\n",
      "max_iter : 40\n",
      "----------------------------------\n",
      "==================================\n",
      "menyusun\n"
     ]
    },
    {
     "name": "stderr",
     "output_type": "stream",
     "text": [
      "/home/nakama/Documents/StateOfTheArtWSD/nlp/lib/python3.6/site-packages/sklearn/svm/base.py:929: ConvergenceWarning: Liblinear failed to converge, increase the number of iterations.\n",
      "  \"the number of iterations.\", ConvergenceWarning)\n",
      "/home/nakama/Documents/StateOfTheArtWSD/nlp/lib/python3.6/site-packages/sklearn/metrics/classification.py:1437: UndefinedMetricWarning: Precision and F-score are ill-defined and being set to 0.0 in labels with no predicted samples.\n",
      "  'precision', 'predicted', average, warn_for)\n"
     ]
    },
    {
     "name": "stdout",
     "output_type": "stream",
     "text": [
      "\n",
      "Training f1-score: 0.8987850204250192\n",
      "Cross validation f1-score: 0.5864585794312791\n",
      "Dummy classifier f1-score:  0.24242424242424243\n",
      "Best parameters:\n",
      "C : 0.25\n",
      "max_iter : 20\n",
      "----------------------------------\n",
      "==================================\n",
      "kepala\n"
     ]
    },
    {
     "name": "stderr",
     "output_type": "stream",
     "text": [
      "/home/nakama/Documents/StateOfTheArtWSD/nlp/lib/python3.6/site-packages/sklearn/svm/base.py:929: ConvergenceWarning: Liblinear failed to converge, increase the number of iterations.\n",
      "  \"the number of iterations.\", ConvergenceWarning)\n",
      "/home/nakama/Documents/StateOfTheArtWSD/nlp/lib/python3.6/site-packages/sklearn/metrics/classification.py:1437: UndefinedMetricWarning: Precision and F-score are ill-defined and being set to 0.0 in labels with no predicted samples.\n",
      "  'precision', 'predicted', average, warn_for)\n"
     ]
    },
    {
     "name": "stdout",
     "output_type": "stream",
     "text": [
      "\n",
      "Training f1-score: 1.0\n",
      "Cross validation f1-score: 0.6356492145171391\n",
      "Dummy classifier f1-score:  0.3046964490263459\n",
      "Best parameters:\n",
      "C : 0.5\n",
      "max_iter : 20\n",
      "----------------------------------\n",
      "==================================\n",
      "menerima\n"
     ]
    },
    {
     "name": "stderr",
     "output_type": "stream",
     "text": [
      "/home/nakama/Documents/StateOfTheArtWSD/nlp/lib/python3.6/site-packages/sklearn/svm/base.py:929: ConvergenceWarning: Liblinear failed to converge, increase the number of iterations.\n",
      "  \"the number of iterations.\", ConvergenceWarning)\n",
      "/home/nakama/Documents/StateOfTheArtWSD/nlp/lib/python3.6/site-packages/sklearn/metrics/classification.py:1437: UndefinedMetricWarning: Precision and F-score are ill-defined and being set to 0.0 in labels with no predicted samples.\n",
      "  'precision', 'predicted', average, warn_for)\n"
     ]
    },
    {
     "name": "stdout",
     "output_type": "stream",
     "text": [
      "\n",
      "Training f1-score: 0.7970733893557422\n",
      "Cross validation f1-score: 0.27839514860691333\n",
      "Dummy classifier f1-score:  0.11327433628318584\n",
      "Best parameters:\n",
      "C : 4.0\n",
      "max_iter : 10\n",
      "----------------------------------\n",
      "==================================\n",
      "menurunkan\n"
     ]
    },
    {
     "name": "stderr",
     "output_type": "stream",
     "text": [
      "/home/nakama/Documents/StateOfTheArtWSD/nlp/lib/python3.6/site-packages/sklearn/svm/base.py:929: ConvergenceWarning: Liblinear failed to converge, increase the number of iterations.\n",
      "  \"the number of iterations.\", ConvergenceWarning)\n",
      "/home/nakama/Documents/StateOfTheArtWSD/nlp/lib/python3.6/site-packages/sklearn/metrics/classification.py:1437: UndefinedMetricWarning: Precision and F-score are ill-defined and being set to 0.0 in labels with no predicted samples.\n",
      "  'precision', 'predicted', average, warn_for)\n"
     ]
    },
    {
     "name": "stdout",
     "output_type": "stream",
     "text": [
      "\n",
      "Training f1-score: 0.8393232941499343\n",
      "Cross validation f1-score: 0.35922782938082815\n",
      "Dummy classifier f1-score:  0.12656641604010024\n",
      "Best parameters:\n",
      "C : 8.0\n",
      "max_iter : 10\n",
      "----------------------------------\n",
      "==================================\n",
      "jalan\n"
     ]
    },
    {
     "name": "stderr",
     "output_type": "stream",
     "text": [
      "/home/nakama/Documents/StateOfTheArtWSD/nlp/lib/python3.6/site-packages/sklearn/svm/base.py:929: ConvergenceWarning: Liblinear failed to converge, increase the number of iterations.\n",
      "  \"the number of iterations.\", ConvergenceWarning)\n",
      "/home/nakama/Documents/StateOfTheArtWSD/nlp/lib/python3.6/site-packages/sklearn/metrics/classification.py:1437: UndefinedMetricWarning: Precision and F-score are ill-defined and being set to 0.0 in labels with no predicted samples.\n",
      "  'precision', 'predicted', average, warn_for)\n"
     ]
    },
    {
     "name": "stdout",
     "output_type": "stream",
     "text": [
      "\n",
      "Training f1-score: 1.0\n",
      "Cross validation f1-score: 0.43575024334565227\n",
      "Dummy classifier f1-score:  0.1651376146788991\n",
      "Best parameters:\n",
      "C : 0.25\n",
      "max_iter : 40\n",
      "----------------------------------\n",
      "==================================\n",
      "dasar\n",
      "\n",
      "Training f1-score: 0.9779991697799917\n",
      "Cross validation f1-score: 0.5020301025139735\n",
      "Dummy classifier f1-score:  0.176056338028169\n",
      "Best parameters:\n",
      "C : 0.25\n",
      "max_iter : 40\n",
      "----------------------------------\n",
      "Cross validation macro average f1-score: 0.6362953149843741\n",
      "Dummy classifier macro average f1-score: 0.2526642298604586\n",
      "elapsed time: 104.01280576100004\n"
     ]
    },
    {
     "name": "stderr",
     "output_type": "stream",
     "text": [
      "/home/nakama/Documents/StateOfTheArtWSD/nlp/lib/python3.6/site-packages/sklearn/svm/base.py:929: ConvergenceWarning: Liblinear failed to converge, increase the number of iterations.\n",
      "  \"the number of iterations.\", ConvergenceWarning)\n",
      "/home/nakama/Documents/StateOfTheArtWSD/nlp/lib/python3.6/site-packages/sklearn/metrics/classification.py:1437: UndefinedMetricWarning: Precision and F-score are ill-defined and being set to 0.0 in labels with no predicted samples.\n",
      "  'precision', 'predicted', average, warn_for)\n"
     ]
    }
   ],
   "source": [
    "'''\n",
    "Select best parameter using k-fold cross validation\n",
    "'''\n",
    "\n",
    "def train_f1(X, y, clf, possible_param, fold=5):\n",
    "    clf = GridSearchCV(clf, possible_param, cv=fold, n_jobs=7, iid=False, scoring='f1_macro')\n",
    "    clf.fit(X, y)\n",
    "    label_counts = np.bincount(y)\n",
    "    most_freq_label = np.argmax(label_counts)\n",
    "    print()\n",
    "    print('Training f1-score:', classification_report(y, clf.predict(X), output_dict=True)['macro avg']['f1-score'])\n",
    "    print('Cross validation f1-score:', clf.best_score_)\n",
    "    dummy_score = classification_report(y, [most_freq_label for i in y], output_dict=True)['macro avg']['f1-score']\n",
    "    print('Dummy classifier f1-score: ', dummy_score)\n",
    "    print_param(clf.best_params_)\n",
    "    return (clf.best_estimator_, clf.best_score_, dummy_score)\n",
    "\n",
    "def print_param(param):\n",
    "    print('Best parameters:')\n",
    "    for p in param:\n",
    "        print(p, ':', param[p])\n",
    "\n",
    "def train_all_f1(clf, possible_param, fold=5, algorithm_name=''):\n",
    "    print(algorithm_name)\n",
    "    scores = []\n",
    "    dummy_scores = []\n",
    "    for w in classifier.keys():\n",
    "        print('==================================')\n",
    "        print(w)\n",
    "        indexes = list(train_raw.query('kata == \"{}\"'.format(w)).index)\n",
    "        best_clf, best_score, dummy_score = train_f1(X_train[indexes], y_train[indexes], clf, possible_param, fold)\n",
    "        scores.append(best_score)\n",
    "        dummy_scores.append(dummy_score)\n",
    "        classifier[w] = best_clf\n",
    "        print('----------------------------------')\n",
    "    print('Cross validation macro average f1-score:', sum(scores)/len(scores))\n",
    "    print('Dummy classifier macro average f1-score:', sum(dummy_scores)/len(dummy_scores))\n",
    "    \n",
    "begin = time.perf_counter()\n",
    "train_all_f1(\n",
    "    WordSenseDisambiguator(),\n",
    "    {'max_iter': [10, 20, 40], 'C':[0.25, 0.5, 1.0, 2.0, 4.0, 8.0]},\n",
    "    algorithm_name='Linear SVM'\n",
    ")\n",
    "print('elapsed time:', time.perf_counter() - begin)"
   ]
  },
  {
   "cell_type": "code",
   "execution_count": 21,
   "metadata": {},
   "outputs": [],
   "source": [
    "del X_train"
   ]
  },
  {
   "cell_type": "markdown",
   "metadata": {},
   "source": [
    "# Actual Test"
   ]
  },
  {
   "cell_type": "code",
   "execution_count": 24,
   "metadata": {},
   "outputs": [
    {
     "name": "stdout",
     "output_type": "stream",
     "text": [
      "IMS feature extraction finished, now working on word embeddings.. Done!\n",
      "elapsed time: 44.57902134\n"
     ]
    }
   ],
   "source": [
    "begin = time.perf_counter()\n",
    "X_test = iaco.transform(test_raw)\n",
    "print('elapsed time:', time.perf_counter() - begin)"
   ]
  },
  {
   "cell_type": "code",
   "execution_count": 43,
   "metadata": {},
   "outputs": [
    {
     "name": "stdout",
     "output_type": "stream",
     "text": [
      "Raw read: 10.00 % | Time elapsed: 21.56081454099998458"
     ]
    }
   ],
   "source": [
    "res_file = open('../supervised_wsd_no_ner_no_mwe_best_of_5fold_cv.csv', 'w')\n",
    "begin = time.perf_counter()\n",
    "\n",
    "for i in range(len(test_raw)):\n",
    "    row = test_raw.iloc[i]\n",
    "    prediction = classifier[row.kata].predict([X_test[i]])\n",
    "    prediction = label_transformer[row.kata].inverse_transform(prediction)\n",
    "    prediction = prediction[0]\n",
    "    res_file.write('{},{},{}\\n'.format(row.id, row.kata, prediction))\n",
    "    sys.stdout.write(\"\\rRaw read: {0:.2f} % | Time elapsed: {1}\".format(\n",
    "    i/len(test_raw)*10, time.perf_counter() - begin\n",
    "    ))\n",
    "    sys.stdout.flush()\n",
    "    \n",
    "res_file.close()"
   ]
  },
  {
   "cell_type": "code",
   "execution_count": 34,
   "metadata": {},
   "outputs": [],
   "source": [
    "r = test_raw.iloc[2]"
   ]
  },
  {
   "cell_type": "code",
   "execution_count": 35,
   "metadata": {},
   "outputs": [
    {
     "data": {
      "text/plain": [
       "Unnamed: 0                                                           2\n",
       "id                                                                  41\n",
       "kata                                                             asing\n",
       "kalimat              warga negara asing atau warga negara makmur ya...\n",
       "pos_tags             NN NN JJ CC NN NN NN SC NN RB NEG CD MD VB NNP...\n",
       "clean                warga negara asing warga negara makmur kepala ...\n",
       "targetpos_clean                                                      2\n",
       "targetpos_ori                                                        2\n",
       "targetpos_pos_tag                                                    2\n",
       "Name: 2, dtype: object"
      ]
     },
     "execution_count": 35,
     "metadata": {},
     "output_type": "execute_result"
    }
   ],
   "source": [
    "r"
   ]
  },
  {
   "cell_type": "code",
   "execution_count": 36,
   "metadata": {},
   "outputs": [
    {
     "data": {
      "text/plain": [
       "array([1])"
      ]
     },
     "execution_count": 36,
     "metadata": {},
     "output_type": "execute_result"
    }
   ],
   "source": [
    "classifier['asing'].predict([X_test[2]])"
   ]
  },
  {
   "cell_type": "code",
   "execution_count": 37,
   "metadata": {},
   "outputs": [
    {
     "data": {
      "text/plain": [
       "array(['5301'], dtype=object)"
      ]
     },
     "execution_count": 37,
     "metadata": {},
     "output_type": "execute_result"
    }
   ],
   "source": [
    "label_transformer['asing'].inverse_transform([0])"
   ]
  },
  {
   "cell_type": "code",
   "execution_count": null,
   "metadata": {},
   "outputs": [],
   "source": []
  }
 ],
 "metadata": {
  "kernelspec": {
   "display_name": "Python 3",
   "language": "python",
   "name": "python3"
  },
  "language_info": {
   "codemirror_mode": {
    "name": "ipython",
    "version": 3
   },
   "file_extension": ".py",
   "mimetype": "text/x-python",
   "name": "python",
   "nbconvert_exporter": "python",
   "pygments_lexer": "ipython3",
   "version": "3.6.8"
  }
 },
 "nbformat": 4,
 "nbformat_minor": 2
}
